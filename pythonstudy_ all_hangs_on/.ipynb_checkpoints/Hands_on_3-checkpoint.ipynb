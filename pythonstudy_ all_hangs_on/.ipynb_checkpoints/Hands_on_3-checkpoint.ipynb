{
 "cells": [
  {
   "cell_type": "code",
   "execution_count": 1,
   "metadata": {},
   "outputs": [
    {
     "name": "stdout",
     "output_type": "stream",
     "text": [
      "please enter your scores:38\n",
      "please enter your scores:40\n",
      "please enter your scores:50\n",
      "please enter your scores:-1\n",
      "students number is: 3\n",
      "average: 42.666666666666664\n",
      "total: 128\n"
     ]
    }
   ],
   "source": [
    "grade = []\n",
    "while True:\n",
    "    element = int(input(\"please enter your scores:\"))\n",
    "    if element == -1:\n",
    "        break\n",
    "    grade.append(element)\n",
    "       \n",
    "print(\"students number is:\",len(grade))\n",
    "\n",
    "number = 0\n",
    "for i in range(len(grade)):\n",
    "    number += grade[i]\n",
    "print(\"average:\", number/len(grade))\n",
    "print(\"total:\",number)"
   ]
  },
  {
   "cell_type": "code",
   "execution_count": 1,
   "metadata": {},
   "outputs": [
    {
     "name": "stdout",
     "output_type": "stream",
     "text": [
      "請輸入要刪除的水果:蘋果\n",
      "['香蕉', '橘子', '鳳梨', '西瓜']\n",
      "請輸入要刪除的水果:香蕉\n",
      "['橘子', '鳳梨', '西瓜']\n",
      "請輸入要刪除的水果:enter\n"
     ]
    }
   ],
   "source": [
    "fruit_list = [\"香蕉\",\"蘋果\",\"橘子\",\"鳳梨\",\"西瓜\"]\n",
    "while True:\n",
    "    fruit = str(input(\"請輸入要刪除的水果:\"))\n",
    "    if fruit in fruit_list:\n",
    "        fruit_list.remove(fruit)\n",
    "        print(fruit_list)\n",
    "    elif (fruit == \"enter\"):\n",
    "        break\n",
    "    else:\n",
    "        print(\"不在列表範圍內\")"
   ]
  },
  {
   "cell_type": "code",
   "execution_count": 5,
   "metadata": {},
   "outputs": [
    {
     "name": "stdout",
     "output_type": "stream",
     "text": [
      "please enter the score:39\n",
      "please enter the score:93\n",
      "please enter the score:20\n",
      "please enter the score:39\n",
      "please enter the score:-1\n",
      "[93.0, 39.0, 39.0, 20.0]\n",
      "average: 47.75\n"
     ]
    }
   ],
   "source": [
    "\"\"\"\n",
    "老師每次輸入學生成績後，都會進一步分析學生的狀況，請\n",
    "幫忙設計一個程式讓老師輸入學生成績，直到 輸入 -1 結束，\n",
    "最後將成績由大到小排序 ，並且輸出平均分數。\n",
    "\"\"\"\n",
    "score_list = []\n",
    "while True:\n",
    "    score = float(input(\"please enter the score:\"))\n",
    "    if score == -1:\n",
    "        break\n",
    "    score_list.append(score)\n",
    "    score_list2 = sorted(score_list,reverse=True)\n",
    "    number = 0\n",
    "for i in range(len(score_list2)):\n",
    "    number += score_list2[i]\n",
    "print(score_list2)\n",
    "print(\"average:\", number/len(score_list2))\n",
    "\n"
   ]
  },
  {
   "cell_type": "code",
   "execution_count": 18,
   "metadata": {},
   "outputs": [
    {
     "name": "stdout",
     "output_type": "stream",
     "text": [
      "please enter your blood type:tt\n",
      "can't find the blood type!\n"
     ]
    }
   ],
   "source": [
    "\"\"\"\n",
    "不同血型的人具有不同的個性：設計程式建立 4 筆字典資\n",
    "料： 「鍵」為血型，「值」為個性。使用者輸入血型後，\n",
    "若血型存在，就顯示該血型的個性，如果血型不存在，則\n",
    "顯示沒有該血型的訊息。\n",
    "\"\"\"\n",
    "blood_dict = dict([[\"b\",\"happy\"], [\"a\",\"sad\"], [\"ab\",\"angry\"], [\"o\",\"strong\"]])\n",
    "blood_type = str(input(\"please enter your blood type:\"))\n",
    "result=blood_dict .get(blood_type,\"can't find the blood type!\")\n",
    "print(result)\n",
    "\n"
   ]
  },
  {
   "cell_type": "code",
   "execution_count": 1,
   "metadata": {},
   "outputs": [
    {
     "name": "stdout",
     "output_type": "stream",
     "text": [
      "please enter student name:eric\n",
      "98\n",
      "{'eric': 98, 'richardo': 88, 'timy': 78}\n"
     ]
    }
   ],
   "source": [
    "\"\"\"\n",
    "為了解學習狀況 老師需要查詢學生成績 。 設計程式建立\n",
    "3 筆字典資料： 「 鍵 」 為學生姓名 「 值 」 為學生成績 。\n",
    "老師輸入學生姓名後 若學生姓名存在 就顯示該學生成\n",
    "績 否則就讓老師輸入成績 並將學生資料加入字典 。\n",
    "\"\"\"\n",
    "student_score=dict([[\"eric\",98],[\"richardo\",88],[\"timy\",78]])\n",
    "student_behavior=str(input(\"please enter student name:\"))\n",
    "if student_behavior in student_score:\n",
    "    print(student_score[student_behavior])\n",
    "else:\n",
    "    new_score=float(input(\"pleas eanter new score\"))\n",
    "    student_score[student_behavior] = new_score\n",
    "    \n",
    "\n"
   ]
  },
  {
   "cell_type": "code",
   "execution_count": 8,
   "metadata": {},
   "outputs": [
    {
     "name": "stdout",
     "output_type": "stream",
     "text": [
      "please enter student name:yamaha\n",
      "pleas eanter new score90\n",
      "please enter student name:honda\n",
      "pleas eanter new score87\n",
      "please enter student name:suzuki\n",
      "pleas eanter new score-1\n",
      "{'eric': 98, 'richardo': 88, 'timy': 78, 'yamaha': 90, 'honda': 87}\n"
     ]
    }
   ],
   "source": [
    "student_score=dict([[\"eric\",98],[\"richardo\",88],[\"timy\",78]])\n",
    "while True:\n",
    "    student_behavior=str(input(\"please enter student name:\"))\n",
    "    try:\n",
    "        student_behavior in student_score\n",
    "        print(student_score[student_behavior])\n",
    "    except:\n",
    "        new_score=int(input(\"pleas eanter new score\"))\n",
    "        student_score[student_behavior] = new_score       \n",
    "        if new_score == -1:           \n",
    "            \n",
    "            break\n",
    "print(student_score)"
   ]
  },
  {
   "cell_type": "code",
   "execution_count": 19,
   "metadata": {},
   "outputs": [
    {
     "name": "stdout",
     "output_type": "stream",
     "text": [
      "please enter student name:err\n",
      "pleas eanter new score:-1\n",
      "{'eric': 98, 'richardo': 88, 'timy': 78}\n"
     ]
    }
   ],
   "source": [
    "student_score=dict([[\"eric\",98],[\"richardo\",88],[\"timy\",78]])\n",
    "while True:\n",
    "    student_behavior=str(input(\"please enter student name:\"))\n",
    "    if student_behavior in student_score:\n",
    "        print(student_score[student_behavior])\n",
    "    else:\n",
    "        try:\n",
    "            new_score=int(input(\"pleas eanter new score:\"))\n",
    "            student_score[student_behavior] = new_score\n",
    "            if new_score == -1:\n",
    "                del student_score[student_behavior]\n",
    "                break\n",
    "        except ValueError:\n",
    "            print(\"this is not number!\")\n",
    "            \n",
    "print(student_score)\n",
    "\n",
    "            "
   ]
  },
  {
   "cell_type": "code",
   "execution_count": 7,
   "metadata": {},
   "outputs": [
    {
     "name": "stdout",
     "output_type": "stream",
     "text": [
      "please enter student name:reww\n",
      "pleas eanter new score:rer\n",
      "this is not number!\n",
      "please enter student name:eric\n",
      "98\n",
      "please enter student name:yama\n",
      "pleas eanter new score:54\n",
      "please enter student name:richardo\n",
      "88\n",
      "please enter student name:ericyeh\n",
      "pleas eanter new score:98\n",
      "please enter student name:end\n",
      "pleas eanter new score:-1\n",
      "{'eric': 98, 'richardo': 88, 'timy': 78, 'yama': 54, 'ericyeh': 98}\n"
     ]
    }
   ],
   "source": [
    "# setdefault用法練習\n",
    "student_score=dict([[\"eric\",98],[\"richardo\",88],[\"timy\",78]])\n",
    "while True:\n",
    "    student_behavior=str(input(\"please enter student name:\"))\n",
    "    if student_behavior in student_score:\n",
    "        print(student_score[student_behavior])\n",
    "    else:\n",
    "        try:\n",
    "            new_score=int(input(\"pleas eanter new score:\"))\n",
    "            student_score.setdefault(student_behavior, new_score)\n",
    "            if new_score == -1:\n",
    "                del student_score[student_behavior]\n",
    "                break\n",
    "        except ValueError:\n",
    "             print(\"this is not number!\")\n",
    "print(student_score)\n"
   ]
  }
 ],
 "metadata": {
  "kernelspec": {
   "display_name": "pythonstudy",
   "language": "python",
   "name": "pythonstudy"
  },
  "language_info": {
   "codemirror_mode": {
    "name": "ipython",
    "version": 3
   },
   "file_extension": ".py",
   "mimetype": "text/x-python",
   "name": "python",
   "nbconvert_exporter": "python",
   "pygments_lexer": "ipython3",
   "version": "3.7.7"
  }
 },
 "nbformat": 4,
 "nbformat_minor": 4
}
