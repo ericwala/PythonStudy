{
 "cells": [
  {
   "cell_type": "code",
   "execution_count": null,
   "metadata": {},
   "outputs": [],
   "source": [
    "grade = []\n",
    "while True:\n",
    "    element = int(input(\"please enter your scores:\"))\n",
    "    if element == -1:\n",
    "        break\n",
    "    grade.append(element)\n",
    "       \n",
    "print(\"students number is:\",len(grade))\n",
    "\n",
    "number = 0\n",
    "for i in range(len(grade)):\n",
    "    number += grade[i]\n",
    "print(\"average:\", number/len(grade))\n",
    "print(\"total:\",number)"
   ]
  },
  {
   "cell_type": "code",
   "execution_count": 1,
   "metadata": {},
   "outputs": [
    {
     "name": "stdout",
     "output_type": "stream",
     "text": [
      "請輸入要刪除的水果:蘋果\n",
      "['香蕉', '橘子', '鳳梨', '西瓜']\n",
      "請輸入要刪除的水果:香蕉\n",
      "['橘子', '鳳梨', '西瓜']\n",
      "請輸入要刪除的水果:enter\n"
     ]
    }
   ],
   "source": [
    "fruit_list = [\"香蕉\",\"蘋果\",\"橘子\",\"鳳梨\",\"西瓜\"]\n",
    "while True:\n",
    "    fruit = str(input(\"請輸入要刪除的水果:\"))\n",
    "    if fruit in fruit_list:\n",
    "        fruit_list.remove(fruit)\n",
    "        print(fruit_list)\n",
    "    elif (fruit == \"enter\"):\n",
    "        break\n",
    "    else:\n",
    "        print(\"不在列表範圍內\")"
   ]
  }
 ],
 "metadata": {
  "kernelspec": {
   "display_name": "pythonstudy",
   "language": "python",
   "name": "pythonstudy"
  },
  "language_info": {
   "codemirror_mode": {
    "name": "ipython",
    "version": 3
   },
   "file_extension": ".py",
   "mimetype": "text/x-python",
   "name": "python",
   "nbconvert_exporter": "python",
   "pygments_lexer": "ipython3",
   "version": "3.7.7"
  }
 },
 "nbformat": 4,
 "nbformat_minor": 4
}
