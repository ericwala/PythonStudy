{
 "cells": [
  {
   "cell_type": "code",
   "execution_count": 2,
   "metadata": {},
   "outputs": [
    {
     "name": "stdout",
     "output_type": "stream",
     "text": [
      "please enter your electricity fee:(enter -1 to end )78\n",
      "please enter your electricity fee:(enter -1 to end )30\n",
      "please enter your electricity fee:(enter -1 to end )69\n",
      "please enter your electricity fee:(enter -1 to end )-1\n",
      "Totally enter  3 numbers.\n",
      "the most electricity fee: 78.0\n",
      "the last electricity fee: 30.0\n",
      "total cost: 177.0\n",
      "[78.0, 69.0, 30.0]\n"
     ]
    }
   ],
   "source": [
    "# 設計程式輸入電費，輸入-1表示資料結束,顯示最多電費,最少電費,電費總和,費用由大排到小\n",
    "electricity_fee = []\n",
    "while True:\n",
    "    fee = float(input(\"please enter your electricity fee:(enter -1 to end )\"))\n",
    "    if fee == -1:\n",
    "        break\n",
    "    electricity_fee.append(fee)\n",
    "number=0\n",
    "for i in range(len(electricity_fee)):\n",
    "    number += electricity_fee[i]\n",
    "electricity_fee_2 = sorted(electricity_fee,reverse=True) \n",
    "        \n",
    "print(\"Totally enter \",len(electricity_fee),\"numbers.\")\n",
    "print(\"the most electricity fee:\",max(electricity_fee))\n",
    "print(\"the last electricity fee:\",min(electricity_fee))\n",
    "print(\"total cost:\",number)\n",
    "print(electricity_fee_2)\n",
    "\n",
    "        "
   ]
  },
  {
   "cell_type": "code",
   "execution_count": 33,
   "metadata": {},
   "outputs": [
    {
     "name": "stdout",
     "output_type": "stream",
     "text": [
      "[33, 21, 28, 17, 31, 9, 26]\n",
      "本期大樂透號碼: [17, 21, 26, 28, 31, 33]\n",
      "特別號: 9\n"
     ]
    }
   ],
   "source": [
    "# 大樂透選號\n",
    "num_list = list(range(1, 50))\n",
    "import random as r\n",
    "choice_1 = r.sample(num_list,7)\n",
    "choice_2 = r.choice(choice_1)\n",
    "print(choice_1)\n",
    "\n",
    "choice_1.remove(choice_2)\n",
    "choice_3 = sorted(choice_1)\n",
    "\n",
    "print(\"本期大樂透號碼:\",choice_3[0:6])\n",
    "print(\"特別號:\",choice_2)\n",
    "\n",
    "\n"
   ]
  },
  {
   "cell_type": "code",
   "execution_count": 29,
   "metadata": {},
   "outputs": [
    {
     "name": "stdout",
     "output_type": "stream",
     "text": [
      "現在時刻:中華民國 109 年 5 月 6 日 13 時 26 分 55 秒 星期三\n",
      "今天是今年第 127 天 此地無日光節約時間\n"
     ]
    }
   ],
   "source": [
    "# time practice\n",
    "import time as t\n",
    "d = t.localtime().tm_year\n",
    "chinese_year = d - 1911\n",
    "tm=t.localtime().tm_mon\n",
    "td=t.localtime().tm_mday\n",
    "th=t.localtime().tm_hour\n",
    "tmin=t.localtime().tm_min\n",
    "ts=t.localtime().tm_sec\n",
    "tyday=t.localtime().tm_yday\n",
    "tisdst=t.localtime().tm_isdst\n",
    "twee=t.localtime().tm_wday \n",
    "tweek= dict([[0,\"星期一\"],[1,\"星期二\"],[2,\"星期三\"],[3,\"星期四\"],[4,\"星期五\"],[5,\"星期六\"],[6,\"星期天\"]])\n",
    "if tisdst == True:\n",
    "    tisdst = \"此地有日光節約時間\"\n",
    "    \n",
    "else:\n",
    "    tisdst = \"此地無日光節約時間\"\n",
    "    \n",
    "print(\"現在時刻:中華民國\",chinese_year,\"年\",tm,\"月\",td,\"日\",th,\"時\",tmin,\"分\",ts,\"秒\",tweek[twee])\n",
    "print(\"今天是今年第\",tyday,\"天\",tisdst)\n"
   ]
  }
 ],
 "metadata": {
  "kernelspec": {
   "display_name": "pythonstudy",
   "language": "python",
   "name": "pythonstudy"
  },
  "language_info": {
   "codemirror_mode": {
    "name": "ipython",
    "version": 3
   },
   "file_extension": ".py",
   "mimetype": "text/x-python",
   "name": "python",
   "nbconvert_exporter": "python",
   "pygments_lexer": "ipython3",
   "version": "3.7.7"
  }
 },
 "nbformat": 4,
 "nbformat_minor": 4
}
