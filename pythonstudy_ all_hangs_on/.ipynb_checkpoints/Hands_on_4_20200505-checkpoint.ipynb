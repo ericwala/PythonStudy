{
 "cells": [
  {
   "cell_type": "code",
   "execution_count": 2,
   "metadata": {},
   "outputs": [
    {
     "name": "stdout",
     "output_type": "stream",
     "text": [
      "please enter your electricity fee:(enter -1 to end )78\n",
      "please enter your electricity fee:(enter -1 to end )30\n",
      "please enter your electricity fee:(enter -1 to end )69\n",
      "please enter your electricity fee:(enter -1 to end )-1\n",
      "Totally enter  3 numbers.\n",
      "the most electricity fee: 78.0\n",
      "the last electricity fee: 30.0\n",
      "total cost: 177.0\n",
      "[78.0, 69.0, 30.0]\n"
     ]
    }
   ],
   "source": [
    "# 設計程式輸入電費，輸入-1表示資料結束,顯示最多電費,最少電費,電費總和,費用由大排到小\n",
    "electricity_fee = []\n",
    "while True:\n",
    "    fee = float(input(\"please enter your electricity fee:(enter -1 to end )\"))\n",
    "    if fee == -1:\n",
    "        break\n",
    "    electricity_fee.append(fee)\n",
    "number=0\n",
    "for i in range(len(electricity_fee)):\n",
    "    number += electricity_fee[i]\n",
    "electricity_fee_2 = sorted(electricity_fee,reverse=True) \n",
    "        \n",
    "print(\"Totally enter \",len(electricity_fee),\"numbers.\")\n",
    "print(\"the most electricity fee:\",max(electricity_fee))\n",
    "print(\"the last electricity fee:\",min(electricity_fee))\n",
    "print(\"total cost:\",number)\n",
    "print(electricity_fee_2)\n",
    "\n",
    "        "
   ]
  },
  {
   "cell_type": "code",
   "execution_count": 94,
   "metadata": {},
   "outputs": [
    {
     "name": "stdout",
     "output_type": "stream",
     "text": [
      "[41, 16, 25, 28, 46, 20, 8]\n",
      "本期大樂透號碼: [8, 16, 20, 25, 41, 46]\n",
      "特別號: 28\n"
     ]
    }
   ],
   "source": [
    "# 大樂透選號\n",
    "num_list = list(range(1, 50))\n",
    "import random as r\n",
    "choice_1 = r.sample(num_list,7)\n",
    "choice_2 = r.choice(choice_1)\n",
    "print(choice_1)\n",
    "if choice_2 in choice_1:\n",
    "    choice_1.remove(choice_2)\n",
    "    choice_3 = sorted(choice_1)\n",
    "\n",
    "print(\"本期大樂透號碼:\",choice_3[0:6])\n",
    "print(\"特別號:\",choice_2)\n",
    "\n",
    "\n"
   ]
  },
  {
   "cell_type": "code",
   "execution_count": 112,
   "metadata": {},
   "outputs": [
    {
     "name": "stdout",
     "output_type": "stream",
     "text": [
      "time.struct_time(tm_year=2020, tm_mon=5, tm_mday=6, tm_hour=2, tm_min=6, tm_sec=52, tm_wday=2, tm_yday=127, tm_isdst=0)\n"
     ]
    }
   ],
   "source": [
    "# time practice\n",
    "import time as t\n",
    "now=[]\n",
    "now = t.localtime()\n",
    "print(now)\n",
    "\n",
    "\n"
   ]
  }
 ],
 "metadata": {
  "kernelspec": {
   "display_name": "pythonstudy",
   "language": "python",
   "name": "pythonstudy"
  },
  "language_info": {
   "codemirror_mode": {
    "name": "ipython",
    "version": 3
   },
   "file_extension": ".py",
   "mimetype": "text/x-python",
   "name": "python",
   "nbconvert_exporter": "python",
   "pygments_lexer": "ipython3",
   "version": "3.7.7"
  }
 },
 "nbformat": 4,
 "nbformat_minor": 4
}
