{
 "cells": [
  {
   "cell_type": "code",
   "execution_count": 5,
   "metadata": {},
   "outputs": [
    {
     "name": "stdout",
     "output_type": "stream",
     "text": [
      "please enter the password:1234\n",
      "welcome!\n"
     ]
    }
   ],
   "source": [
    "password = int(input(\"please enter the password:\"))\n",
    "if password == 1234:\n",
    "    print(\"welcome!\")\n",
    "else:\n",
    "    print(\"wrong password!\")"
   ]
  },
  {
   "cell_type": "code",
   "execution_count": 9,
   "metadata": {},
   "outputs": [
    {
     "name": "stdout",
     "output_type": "stream",
     "text": [
      "please enter the score:60\n",
      "60.0\n",
      "丙等\n"
     ]
    }
   ],
   "source": [
    "score = float(input(\"please enter the score:\"))\n",
    "if score >= 90:\n",
    "    print(score)\n",
    "    print(\"優等\")\n",
    "elif score >= 80:\n",
    "    print(score)\n",
    "    print(\"甲等\")\n",
    "elif score >= 70:\n",
    "    print(score)\n",
    "    print(\"乙等\")\n",
    "elif score >= 60:\n",
    "    print(score)\n",
    "    print(\"丙等\")\n",
    "else: \n",
    "    print(score)\n",
    "    print(\"丁等\")"
   ]
  },
  {
   "cell_type": "code",
   "execution_count": 16,
   "metadata": {},
   "outputs": [
    {
     "name": "stdout",
     "output_type": "stream",
     "text": [
      "消費金額: 9780\n",
      "折扣後金額: 9780.0\n"
     ]
    }
   ],
   "source": [
    "money = float(input(\"消費金額: \"))\n",
    "if money >= 100000:\n",
    "    money = money * 0.8\n",
    "elif money >= 50000:\n",
    "    money = money * 0.85\n",
    "elif money >= 30000:\n",
    "    money = money * 0.9\n",
    "elif money >= 10000:\n",
    "    money = money * 0.95\n",
    "print(\"折扣後金額:\",money) \n",
    "    "
   ]
  },
  {
   "cell_type": "code",
   "execution_count": 9,
   "metadata": {},
   "outputs": [
    {
     "name": "stdout",
     "output_type": "stream",
     "text": [
      "number100\n",
      "1 2 3 4 5 6 7 8 9 10 11 12 13 14 15 16 17 18 19 20 21 22 23 24 25 26 27 28 29 30 31 32 33 34 35 36 37 38 39 40 41 42 43 44 45 46 47 48 49 50 51 52 53 54 55 56 57 58 59 60 61 62 63 64 65 66 67 68 69 70 71 72 73 74 75 76 77 78 79 80 81 82 83 84 85 86 87 88 89 90 91 92 93 94 95 96 97 98 99 100 "
     ]
    }
   ],
   "source": [
    "n = int(input(\"number\"))\n",
    "for n in range(n):\n",
    "    print(n+1, end=\" \")"
   ]
  },
  {
   "cell_type": "code",
   "execution_count": 2,
   "metadata": {},
   "outputs": [
    {
     "name": "stdout",
     "output_type": "stream",
     "text": [
      "number10\n",
      "55\n"
     ]
    }
   ],
   "source": [
    "n = int(input(\"number\"))\n",
    "total = i =1\n",
    "while i < n:\n",
    "    i += 1\n",
    "    total += i\n",
    "print(total)"
   ]
  },
  {
   "cell_type": "code",
   "execution_count": 13,
   "metadata": {},
   "outputs": [
    {
     "name": "stdout",
     "output_type": "stream",
     "text": [
      "number4\n",
      "2 2 2 2 "
     ]
    }
   ],
   "source": [
    "t = int(input(\"number\"))\n",
    "\n",
    "for n in range(t):\n",
    "    total = n = 0\n",
    "    n += 2\n",
    "    total += n\n",
    "    print(total, end=\" \")"
   ]
  },
  {
   "cell_type": "code",
   "execution_count": 86,
   "metadata": {},
   "outputs": [
    {
     "name": "stdout",
     "output_type": "stream",
     "text": [
      "1 2 3 4 5 6 7 8 9\n",
      "2 4 6 8 10 12 14 16 18\n",
      "3 6 9 12 15 18 21 24 27\n",
      "4 8 12 16 20 24 28 32 36\n",
      "5 10 15 20 25 30 35 40 45\n",
      "6 12 18 24 30 36 42 48 54\n",
      "7 14 21 28 35 42 49 56 63\n",
      "8 16 24 32 40 48 56 64 72\n",
      "9 18 27 36 45 54 63 72 81\n"
     ]
    }
   ],
   "source": [
    "n = 1\n",
    "for n in range(1,10):\n",
    "    n *= 1\n",
    "    # iterator\n",
    "    for t in range(1,10):\n",
    "        output = t * n\n",
    "        if t == 9:\n",
    "            print(output, end=\"\\n\" )\n",
    "        else:\n",
    "             print(output, end=\" \")"
   ]
  },
  {
   "cell_type": "code",
   "execution_count": 47,
   "metadata": {},
   "outputs": [
    {
     "name": "stdout",
     "output_type": "stream",
     "text": [
      "Please input a number!10\n",
      "1\n",
      "3\n",
      "5\n",
      "55\n"
     ]
    }
   ],
   "source": [
    "number_sum = 0\n",
    "\n",
    "number_given = int(input('Please input a number!'))\n",
    "\n",
    "for i in range(1, (number_given + 1)):\n",
    "    number_sum += i\n",
    "    \n",
    "print(number_sum)\n",
    "    \n",
    "# enumerate"
   ]
  },
  {
   "cell_type": "code",
   "execution_count": 73,
   "metadata": {},
   "outputs": [
    {
     "name": "stdout",
     "output_type": "stream",
     "text": [
      "1X1=1 2X1=2 3X1=3 4X1=4 5X1=5 6X1=6 7X1=7 8X1=8 9X1=9\n",
      "1X2=2 2X2=4 3X2=6 4X2=8 5X2=10 6X2=12 7X2=14 8X2=16 9X2=18\n",
      "1X3=3 2X3=6 3X3=9 4X3=12 5X3=15 6X3=18 7X3=21 8X3=24 9X3=27\n",
      "1X4=4 2X4=8 3X4=12 4X4=16 5X4=20 6X4=24 7X4=28 8X4=32 9X4=36\n",
      "1X5=5 2X5=10 3X5=15 4X5=20 5X5=25 6X5=30 7X5=35 8X5=40 9X5=45\n",
      "1X6=6 2X6=12 3X6=18 4X6=24 5X6=30 6X6=36 7X6=42 8X6=48 9X6=54\n",
      "1X7=7 2X7=14 3X7=21 4X7=28 5X7=35 6X7=42 7X7=49 8X7=56 9X7=63\n",
      "1X8=8 2X8=16 3X8=24 4X8=32 5X8=40 6X8=48 7X8=56 8X8=64 9X8=72\n",
      "1X9=9 2X9=18 3X9=27 4X9=36 5X9=45 6X9=54 7X9=63 8X9=72 9X9=81\n"
     ]
    }
   ],
   "source": [
    "# 九九乘法表\n",
    "for i in range(1, 10):\n",
    "    for j in range(1, 10):\n",
    "        if j == 9:            \n",
    "            print(str(j), 'X', str(i), '=', i*j , sep='', end='\\n')\n",
    "        else:\n",
    "            print(str(j) + 'X' + str(i) + '=' + str(i*j), end=' ')\n",
    "            "
   ]
  },
  {
   "cell_type": "code",
   "execution_count": 16,
   "metadata": {},
   "outputs": [
    {
     "name": "stdout",
     "output_type": "stream",
     "text": [
      "please enter a number:100\n",
      "93326215443944152681699238856266700490715968264381621468592963895217599993229915608941463976156518286253697920827223758251185210916864000000000000000000000000\n"
     ]
    }
   ],
   "source": [
    "number = int(input(\"please enter a number:\"))\n",
    "n = i = 1\n",
    "while (i < number):\n",
    "    i += 1\n",
    "    n *= i\n",
    "print(n)\n",
    "    "
   ]
  },
  {
   "cell_type": "code",
   "execution_count": 3,
   "metadata": {},
   "outputs": [
    {
     "name": "stdout",
     "output_type": "stream",
     "text": [
      "國文 = 85\n",
      "英文 = 73\n",
      "數學 = 98\n"
     ]
    }
   ],
   "source": [
    "scores = [85,73,98]\n",
    "subjects= [\"國文\",\"英文\",\"數學\"]\n",
    "for i in range(len(subjects)):\n",
    "    print(subjects[i],\"=\",scores[i])"
   ]
  }
 ],
 "metadata": {
  "kernelspec": {
   "display_name": "pythonstudy",
   "language": "python",
   "name": "pythonstudy"
  },
  "language_info": {
   "codemirror_mode": {
    "name": "ipython",
    "version": 3
   },
   "file_extension": ".py",
   "mimetype": "text/x-python",
   "name": "python",
   "nbconvert_exporter": "python",
   "pygments_lexer": "ipython3",
   "version": "3.7.7"
  }
 },
 "nbformat": 4,
 "nbformat_minor": 4
}
