{
 "cells": [
  {
   "cell_type": "code",
   "execution_count": 24,
   "metadata": {
    "scrolled": true
   },
   "outputs": [
    {
     "name": "stdout",
     "output_type": "stream",
     "text": [
      "True\n",
      "1\n",
      "2\n",
      "3\n",
      "4\n",
      "5\n",
      "6\n",
      "7\n",
      "8\n",
      "9\n",
      "10\n",
      "11\n",
      "12\n",
      "13\n",
      "14\n",
      "15\n",
      "16\n",
      "17\n",
      "18\n",
      "19\n",
      "The loop will break\n"
     ]
    }
   ],
   "source": [
    "condition = 1\n",
    "\n",
    "# note:\n",
    "print(True == condition)\n",
    "\n",
    "\n",
    "while condition:\n",
    "    print(condition)\n",
    "    condition += 1\n",
    "    if condition == 20:\n",
    "        condition = 0\n",
    "        # False == 0\n",
    "        print(\"The loop will break\")\n",
    "        \n",
    "\n",
    "\n",
    "# while condition < 10:\n",
    "#     condition = condition + 1\n",
    "#     print(condition)  \n",
    "# print(\"hello world\")\n",
    "    \n",
    "#     print(\"Ricardo is so handsome\")"
   ]
  }
 ],
 "metadata": {
  "kernelspec": {
   "display_name": "pythonstudy",
   "language": "python",
   "name": "pythonstudy"
  },
  "language_info": {
   "codemirror_mode": {
    "name": "ipython",
    "version": 3
   },
   "file_extension": ".py",
   "mimetype": "text/x-python",
   "name": "python",
   "nbconvert_exporter": "python",
   "pygments_lexer": "ipython3",
   "version": "3.7.6"
  }
 },
 "nbformat": 4,
 "nbformat_minor": 4
}
