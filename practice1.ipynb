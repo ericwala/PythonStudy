{
 "cells": [
  {
   "cell_type": "code",
   "execution_count": 24,
   "metadata": {
    "scrolled": true
   },
   "outputs": [
    {
     "name": "stdout",
     "output_type": "stream",
     "text": [
      "True\n",
      "1\n",
      "2\n",
      "3\n",
      "4\n",
      "5\n",
      "6\n",
      "7\n",
      "8\n",
      "9\n",
      "10\n",
      "11\n",
      "12\n",
      "13\n",
      "14\n",
      "15\n",
      "16\n",
      "17\n",
      "18\n",
      "19\n",
      "The loop will break\n"
     ]
    }
   ],
   "source": [
    "condition = 1\n",
    "\n",
    "# note:\n",
    "print(True == condition)\n",
    "\n",
    "\n",
    "while condition:\n",
    "    print(condition)\n",
    "    condition += 1\n",
    "    if condition == 20:\n",
    "        condition = 0\n",
    "    # False == 0\n",
    "        print(\"The loop will break\")\n",
    "        \n",
    "\n",
    "\n",
    "\n",
    "# while condition < 10:\n",
    "#     condition = condition + 1\n",
    "#     print(condition)  \n",
    "# print(\"hello world\")\n",
    "    \n",
    "#     print(\"Ricardo is so handsome\")"
   ]
  },
  {
   "cell_type": "code",
   "execution_count": 3,
   "metadata": {},
   "outputs": [
    {
     "name": "stdout",
     "output_type": "stream",
     "text": [
      "1\n",
      "in of for\n",
      "2\n",
      "in of for\n",
      "3\n",
      "in of for\n",
      "4\n",
      "in of for\n",
      "5\n",
      "in of for\n",
      "675\n",
      "in of for\n",
      "345\n",
      "in of for\n",
      "12\n",
      "in of for\n",
      "3\n",
      "in of for\n",
      "outer of for\n"
     ]
    }
   ],
   "source": [
    "example_list = [1,2,3,4,5,675,345,12,3]\n",
    "for i in example_list:\n",
    "# i不停疊代順序中不同的值\n",
    "    print(i)\n",
    "    print('in of for')\n",
    "print('outer of for')\n"
   ]
  },
  {
   "cell_type": "code",
   "execution_count": 8,
   "metadata": {},
   "outputs": [
    {
     "name": "stdout",
     "output_type": "stream",
     "text": [
      "<class 'int'>\n",
      "<class 'str'>\n",
      "<class 'bool'>\n"
     ]
    }
   ],
   "source": [
    "print(type(56))\n",
    "# 輸出為<class'int'>\n",
    "# 整數int 浮點數float 布林值bool\n",
    "print(type(\"true\"))\n",
    "print(type(True))"
   ]
  },
  {
   "cell_type": "code",
   "execution_count": 15,
   "metadata": {},
   "outputs": [
    {
     "name": "stdout",
     "output_type": "stream",
     "text": [
      "True\n",
      "False\n",
      "True\n"
     ]
    }
   ],
   "source": [
    "print(2+3==6-1)\n",
    "print(1+2!=2+1)\n",
    "print(not(3>5))"
   ]
  },
  {
   "cell_type": "code",
   "execution_count": 4,
   "metadata": {},
   "outputs": [
    {
     "name": "stdout",
     "output_type": "stream",
     "text": [
      "True\n",
      "False\n",
      "False\n",
      "True\n"
     ]
    }
   ],
   "source": [
    "print(5>3 and 9>6)\n",
    "print(3>5 or 6>9)\n",
    "print(5>3 and 6>9)\n",
    "print(5>3 or 9>6)\n",
    "#"
   ]
  },
  {
   "cell_type": "code",
   "execution_count": 16,
   "metadata": {},
   "outputs": [
    {
     "name": "stdout",
     "output_type": "stream",
     "text": [
      "15\n",
      "0\n",
      "50\n",
      "1.6666666666666667\n",
      "4\n",
      "2\n",
      "100000\n"
     ]
    }
   ],
   "source": [
    "\n",
    "\"\"\"\n",
    "+=相加後指定給原來的數\n",
    "-=相減後指定給原來的樹\n",
    "*=相乘後再指定給原變\n",
    "/=相除後再指定給原變\n",
    "%=相除後得到餘數再指定給原變\n",
    "//=得到商數再指定給原變\n",
    "**=指數運算後再指定給原變數\n",
    "\"\"\"\n",
    "i = 10\n",
    "i += 5\n",
    "print(i)\n",
    "i -= 15\n",
    "print(i)\n",
    "i = 10\n",
    "i *= 5\n",
    "print(i)\n",
    "i = 10\n",
    "i /= 6\n",
    "print(i)\n",
    "i = 10\n",
    "i %= 6\n",
    "print(i)\n",
    "i = 10\n",
    "i //= 5\n",
    "print(i)\n",
    "i = 10\n",
    "i **= 5\n",
    "print(i)"
   ]
  },
  {
   "cell_type": "code",
   "execution_count": null,
   "metadata": {},
   "outputs": [],
   "source": [
    "\"\"\"\n",
    "print(項目1[, 項目2,…, sep=分隔字元, end=結束字元])\n",
    "\"\"\"\n"
   ]
  }
 ],
 "metadata": {
  "kernelspec": {
   "display_name": "pythonstudy",
   "language": "python",
   "name": "pythonstudy"
  },
  "language_info": {
   "codemirror_mode": {
    "name": "ipython",
    "version": 3
   },
   "file_extension": ".py",
   "mimetype": "text/x-python",
   "name": "python",
   "nbconvert_exporter": "python",
   "pygments_lexer": "ipython3",
   "version": "3.7.7"
  }
 },
 "nbformat": 4,
 "nbformat_minor": 4
}
