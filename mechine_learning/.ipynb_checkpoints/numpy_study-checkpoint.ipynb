{
 "cells": [
  {
   "cell_type": "code",
   "execution_count": 1,
   "metadata": {},
   "outputs": [
    {
     "data": {
      "text/plain": [
       "[bool, int, float, str]"
      ]
     },
     "execution_count": 1,
     "metadata": {},
     "output_type": "execute_result"
    }
   ],
   "source": [
    "L =[0,1,2,3,4,5,6,7,8,9]\n",
    "type(L[0])\n",
    "L3 =[True,4,3.0,\"s\"]\n",
    "[type(item) for item in L3]"
   ]
  },
  {
   "cell_type": "code",
   "execution_count": 2,
   "metadata": {},
   "outputs": [
    {
     "data": {
      "text/plain": [
       "array([6.95182713e-310, 6.95182713e-310, 6.95182713e-310])"
      ]
     },
     "execution_count": 2,
     "metadata": {},
     "output_type": "execute_result"
    }
   ],
   "source": [
    "import numpy as np\n",
    "import array\n",
    "l = list(range(10))\n",
    "a = array.array(\"i\",l)\n",
    "a\n",
    "# 明確設立資料型態以dtype關鍵字表示\n",
    "np.array([1,2,3,4,5], dtype= \"float32\")\n",
    "# 使用巢狀list產生多維陣列\n",
    "np.array([range(i,i+3) for i in [2,4,6]])\n",
    "# 內層每一個list被當作產出結果二微陣列的每個內容\n",
    "# 內容為0長度為10的陣列\n",
    "np.zeros(10,dtype = int)\n",
    "# 內容為1,3x5的浮點數陣列\n",
    "np.ones((3,5),dtype=float)\n",
    "# 建立填滿3.14內容的3x5陣列\n",
    "np.full((3,5),3.14)\n",
    "# 建立依序填滿的序列，從0~20間格為2\n",
    "np.arange(0,20,2)\n",
    "# 建立5個值陣列，在0,1間均勻分布\n",
    "np.linspace(0,1,5)\n",
    "# 建立平均分布3x3陣列,在0,1之間的亂數值\n",
    "np.random.random((3,3))\n",
    "# 建立3x3陣列,內容為常態分佈亂數值\n",
    "# 平均值0標準差!\n",
    "np.random.normal(0,1,(3,3))\n",
    "# 建立平均分布3x3陣列,在0~10之間的整數亂數值\n",
    "np.random.randint(0,10,(3,3))\n",
    "# 3X3單位矩陣\n",
    "np.eye(3)\n",
    "# 建立未初始化的陣列\n",
    "np.empty(3)\n"
   ]
  },
  {
   "cell_type": "code",
   "execution_count": 3,
   "metadata": {},
   "outputs": [
    {
     "name": "stdout",
     "output_type": "stream",
     "text": [
      "x3 ndim: 3\n",
      "x3 shape (3, 4, 5)\n",
      "x3 size 60\n",
      "dtype: int32\n",
      "itemsize: 4 bytes\n",
      "nbytes: 240 bytes\n",
      "[[3 5 2 4]\n",
      " [7 6 8 8]\n",
      " [1 6 7 7]]\n",
      "[[12  5  2  4]\n",
      " [ 7  6  8  8]\n",
      " [ 1  6  7  7]]\n"
     ]
    }
   ],
   "source": [
    "import numpy as np\n",
    "# seed確保每次執行相同亂數\n",
    "np.random.seed(0)\n",
    "x1 = np.random.randint(10,size = 6)\n",
    "x2 = np.random.randint(10,size = (3,4))\n",
    "x3 = np.random.randint(10,size = (3, 4, 5))\n",
    "print(\"x3 ndim:\", x3.ndim)\n",
    "print(\"x3 shape\", x3.shape)\n",
    "print(\"x3 size\", x3.size)\n",
    "print(\"dtype:\",x3.dtype)\n",
    "print(\"itemsize:\",x3.itemsize,\"bytes\")\n",
    "print(\"nbytes:\",x3.nbytes,\"bytes\")\n",
    "x1\n",
    "print(x2)\n",
    "x2[0,2]\n",
    "x2[0,0] = 12\n",
    "print(x2)"
   ]
  },
  {
   "cell_type": "code",
   "execution_count": 4,
   "metadata": {},
   "outputs": [
    {
     "name": "stdout",
     "output_type": "stream",
     "text": [
      "[0 1 2 3 4]\n",
      "[5 6 7 8 9]\n",
      "[3 4]\n",
      "[0 2 4 6 8]\n"
     ]
    },
    {
     "data": {
      "text/plain": [
       "array([9, 8, 7, 6, 5, 4, 3, 2, 1, 0])"
      ]
     },
     "execution_count": 4,
     "metadata": {},
     "output_type": "execute_result"
    }
   ],
   "source": [
    "# 一維子陣列 x[start:stop:step]\n",
    "import numpy as np\n",
    "x = np.arange(10)\n",
    "x\n",
    "print(x[:5])\n",
    "print(x[5:])\n",
    "print(x[3:5])\n",
    "print(x[::2])\n",
    "x[::-1]#反轉取得陣列所有元素\n"
   ]
  },
  {
   "cell_type": "code",
   "execution_count": 5,
   "metadata": {},
   "outputs": [
    {
     "name": "stdout",
     "output_type": "stream",
     "text": [
      "[[12  5  2  4]\n",
      " [ 7  6  8  8]\n",
      " [ 1  6  7  7]]\n",
      "[[12  5]\n",
      " [ 7  6]]\n",
      "[[99  5]\n",
      " [ 7  6]]\n",
      "[[99  5  2  4]\n",
      " [ 7  6  8  8]\n",
      " [ 1  6  7  7]]\n",
      "[[99  5]\n",
      " [ 7  6]]\n",
      "[[99  5]\n",
      " [87  6]]\n"
     ]
    }
   ],
   "source": [
    "# 多維子陣列\n",
    "x2\n",
    "x2[:,0]\n",
    "x2[0,:]\n",
    "x2[0]#空切片冒號可省略,精簡語句\n",
    "print(x2)\n",
    "x2_sub = x2[:2,:2]\n",
    "print(x2_sub)\n",
    "x2_sub[0, 0]= 99\n",
    "print(x2_sub)\n",
    "print(x2)\n",
    "x2_sub_copy = x2[:2,:2].copy()\n",
    "print(x2_sub_copy)\n",
    "x2_sub_copy[1,0]=87\n",
    "print(x2_sub_copy)"
   ]
  },
  {
   "cell_type": "code",
   "execution_count": 6,
   "metadata": {},
   "outputs": [
    {
     "name": "stdout",
     "output_type": "stream",
     "text": [
      "[[1 2 3]\n",
      " [4 5 6]\n",
      " [7 8 9]]\n",
      "[1 2 3] [99 99] [3 2 1]\n",
      "[[ 0  1  2  3]\n",
      " [ 4  5  6  7]\n",
      " [ 8  9 10 11]\n",
      " [12 13 14 15]]\n",
      "[[0 1 2 3]\n",
      " [4 5 6 7]]\n",
      "[[ 8  9 10 11]\n",
      " [12 13 14 15]]\n",
      "[[ 0  1]\n",
      " [ 4  5]\n",
      " [ 8  9]\n",
      " [12 13]]\n",
      "[[ 2  3]\n",
      " [ 6  7]\n",
      " [10 11]\n",
      " [14 15]]\n"
     ]
    }
   ],
   "source": [
    "# 陣列的重塑\n",
    "grid = np.arange(1,10).reshape((3,3))\n",
    "print(grid)\n",
    "# 建立列向量或欄向量\n",
    "x = np.array([1,2,3])\n",
    "x.reshape((1,3))\n",
    "x[np.newaxis, :]\n",
    "x.reshape((3,1))\n",
    "# 陣列串接 np.concatenate np.vstack np.hstack\n",
    "x = np.array([1,2,3])\n",
    "y = np.array([3,2,1])\n",
    "np.concatenate([x,y])\n",
    "# np.concatenate使用於二微陣列\n",
    "grid = np.array([[1,2,3],\n",
    "                 [4,5,6]])\n",
    "np.concatenate([grid,grid])\n",
    "# 沿著第二軸串接\n",
    "np.concatenate([grid,grid],axis=1)\n",
    "# np.vstack垂直堆疊 np.hstack水平堆疊\n",
    "x = np.array([1,2,3])\n",
    "grid = np.array([[9,8,7],[6,5,4]])\n",
    "\n",
    "np.vstack([x,grid])\n",
    "\n",
    "y = np.array([[99],[99]])\n",
    "np.hstack([y,grid])\n",
    "# 陣列分割np.split np.hsplit np.vslipt\n",
    "x=[1,2,3,99,99,3,2,1]\n",
    "x1,x2,x3 = np.split(x,[3,5])\n",
    "print(x1,x2,x3)\n",
    "# n個分割點產生N+1個子陣列\n",
    "grid = np.arange(16).reshape((4,4))\n",
    "print(grid)\n",
    "upper,lower=np.vsplit(grid,[2])\n",
    "print(upper)\n",
    "print(lower)\n",
    "left, right = np.hsplit(grid,[2])\n",
    "print(left)\n",
    "print(right)\n",
    "\n"
   ]
  },
  {
   "cell_type": "code",
   "execution_count": 7,
   "metadata": {},
   "outputs": [
    {
     "name": "stdout",
     "output_type": "stream",
     "text": [
      "[0.16666667 1.         0.25       0.25       0.125     ]\n",
      "[0.16666667 1.         0.25       0.25       0.125     ]\n",
      "[[ 0  1  4]\n",
      " [ 9 16 25]\n",
      " [36 49 64]]\n",
      "x =  [[0 1]\n",
      " [2 3]]\n",
      "x+5 =  [[5 6]\n",
      " [7 8]]\n",
      "[[2 3]\n",
      " [4 5]]\n",
      "[[ 0 -1]\n",
      " [-2 -3]]\n",
      "[[ 0  1]\n",
      " [ 8 27]]\n",
      "theta= [0.         1.57079633 3.14159265]\n",
      "sin= [0.0000000e+00 1.0000000e+00 1.2246468e-16]\n",
      "cos= [ 1.000000e+00  6.123234e-17 -1.000000e+00]\n",
      "tan= [ 0.00000000e+00  1.63312394e+16 -1.22464680e-16]\n",
      "x= [-1, 0, 1]\n",
      "arcsin(x)= [-1.57079633  0.          1.57079633]\n",
      "arccos(x)= [3.14159265 1.57079633 0.        ]\n",
      "arctan(x)= [-0.78539816  0.          0.78539816]\n",
      "x= [1, 2, 3]\n",
      "e^x= [ 2.71828183  7.3890561  20.08553692]\n",
      "2^x= [2. 4. 8.]\n",
      "3^x= [ 3  9 27]\n",
      "x= [1, 2, 3, 4]\n",
      "ln(x)= [0.         0.69314718 1.09861229 1.38629436]\n",
      "log2(x)= [0.        1.        1.5849625 2.       ]\n",
      "log10(x)= [0.         0.30103    0.47712125 0.60205999]\n",
      "exp(x)-1 = [0.00000000e+00 1.00050017e-03 1.00005000e-04 1.05170918e-01]\n",
      "log(1+x)= [0.00000000e+00 9.99500333e-04 9.99950003e-05 9.53101798e-02]\n"
     ]
    }
   ],
   "source": [
    "# 在np陣列計算universal function\n",
    "np.random.seed(0)\n",
    "def compute_reciprocals(values):\n",
    "    output= np.empty(len(values))\n",
    "    for i in range(len(values)):\n",
    "        output[i] = 1.0 / values[i]\n",
    "    return output\n",
    "values=np.random.randint(1,10,size=5)\n",
    "compute_reciprocals(values)\n",
    "\n",
    "# 花運算時間\n",
    "big_array= np.random.randint(1,100,size=1000000)\n",
    "# %timeit compute_reciprocals(big_array)\n",
    "# output_time:2.09 s ± 31.4 ms per loop (mean ± std. dev. of 7 runs, 1 loop each)\n",
    "print(compute_reciprocals(values))\n",
    "print(1.0/values)\n",
    "# %timeit (1.0/big_array)\n",
    "# output_time:3.22 ms ± 69.5 µs per loop (mean ± std. dev. of 7 runs, 100 loops each)\n",
    "\n",
    "\n",
    "# ufuncs陣列與陣列間直接運算\n",
    "np.arange(5)/np.arange(1,6)\n",
    "# 不受限一維\n",
    "x= np.arange(9).reshape(3,3)\n",
    "print(x ** 2)\n",
    "\n",
    "#陣列算數\n",
    "x = np.arange(4).reshape((2,2))\n",
    "print(\"x = \",x)\n",
    "print(\"x+5 = \",x+5)\n",
    "print(np.add(x,2))\n",
    "print(np.negative(x))\n",
    "print(np.power(x,3))\n",
    "\n",
    "# 取絕對值同python\n",
    "x = np.array([-2,-1,0,1,2])\n",
    "abs(x) #python\n",
    "np.absolute(x) #numpy\n",
    "# 複數abs回傳其大小\n",
    "x = np.array([3 - 4j, 5 +12j, 2-0j , 0+1j ])\n",
    "np.abs(x)\n",
    "# 三角函數\n",
    "theta = np.linspace(0,np.pi,3)\n",
    "print(\"theta=\",theta)\n",
    "print(\"sin=\",np.sin(theta))\n",
    "print(\"cos=\",np.cos(theta))\n",
    "print(\"tan=\",np.tan(theta))\n",
    "x = [-1,0,1]\n",
    "print(\"x=\",x)\n",
    "print(\"arcsin(x)=\",np.arcsin(x))\n",
    "print(\"arccos(x)=\",np.arccos(x))\n",
    "print(\"arctan(x)=\",np.arctan(x))\n",
    "# 指數和對數\n",
    "x = [1,2,3]\n",
    "print(\"x=\",x)\n",
    "print(\"e^x=\",np.exp(x))\n",
    "print(\"2^x=\",np.exp2(x))#沒有exp3\n",
    "print(\"3^x=\",np.power(3,x))\n",
    "# np.log為自然對數\n",
    "x=[1,2,3,4]\n",
    "print(\"x=\",x)\n",
    "print(\"ln(x)=\",np.log(x))\n",
    "print(\"log2(x)=\",np.log2(x))\n",
    "print(\"log10(x)=\",np.log10(x))\n",
    "\n",
    "# 特定 極小值維持精度\n",
    "x=[0,0.001,0.0001,0.1]\n",
    "print(\"exp(x)-1 =\",np.expm1(x))\n",
    "print(\"log(1+x)=\",np.log1p(x))\n"
   ]
  },
  {
   "cell_type": "code",
   "execution_count": 8,
   "metadata": {},
   "outputs": [
    {
     "name": "stdout",
     "output_type": "stream",
     "text": [
      "[ 0. 10. 20. 30. 40.]\n",
      "[ 1.  0.  2.  0.  4.  0.  8.  0. 16.  0.]\n"
     ]
    },
    {
     "data": {
      "text/plain": [
       "array([[ 9, 12, 15, 18, 21, 24],\n",
       "       [12, 16, 20, 24, 28, 32],\n",
       "       [15, 20, 25, 30, 35, 40],\n",
       "       [18, 24, 30, 36, 42, 48],\n",
       "       [21, 28, 35, 42, 49, 56],\n",
       "       [24, 32, 40, 48, 56, 64]])"
      ]
     },
     "execution_count": 8,
     "metadata": {},
     "output_type": "execute_result"
    }
   ],
   "source": [
    "#numpy設定輸出\n",
    "x = np.arange(5)\n",
    "y = np.empty(5)\n",
    "np.multiply(x,10,out = y)\n",
    "print(y)\n",
    "y = np.zeros(10)\n",
    "np.power(2,x,out = y[::2])\n",
    "print(y)\n",
    "# 聚合reduce\n",
    "x=np.arange(1,6)\n",
    "np.add.reduce(x)\n",
    "np.multiply.reduce(x)\n",
    "# 可用accumulate取代表現儲存中間運算結果\n",
    "np.add.accumulate(x)\n",
    "np.multiply.accumulate(x)\n",
    "# 外積\n",
    "x = np.arange(1,6)\n",
    "y = np.arange(3,9)\n",
    "np.multiply.outer(y,y)\n"
   ]
  },
  {
   "cell_type": "code",
   "execution_count": 9,
   "metadata": {},
   "outputs": [
    {
     "name": "stdout",
     "output_type": "stream",
     "text": [
      "order,name,height(cm)\n",
      "1,George Washington,189\n",
      "2,John Adams,170\n",
      "3,Thomas Jefferson,189\n",
      "[189 170 189 163 183 171 185 168 173 183 173 173 175 178 183 193 178 173\n",
      " 174 183 183 168 170 178 182 180 183 178 182 188 175 179 183 193 182 183\n",
      " 177 185 188 188 182 185]\n",
      "mean height: 179.73809523809524\n",
      "standard deviation: 6.931843442745892\n",
      "minimum height: 163\n",
      "maximum heights: 193\n",
      "25 th percentile: 174.25\n",
      "median:  182.0\n",
      "75th percentile: 183.0\n"
     ]
    },
    {
     "name": "stderr",
     "output_type": "stream",
     "text": [
      "\n",
      "Bad key \"text.kerning_factor\" on line 4 in\n",
      "C:\\Users\\a2823\\anaconda3\\envs\\keras\\lib\\site-packages\\matplotlib\\mpl-data\\stylelib\\_classic_test_patch.mplstyle.\n",
      "You probably need to get an updated matplotlibrc file from\n",
      "https://github.com/matplotlib/matplotlib/blob/v3.1.3/matplotlibrc.template\n",
      "or from the matplotlib source distribution\n"
     ]
    },
    {
     "data": {
      "text/plain": [
       "Text(0, 0.5, 'number')"
      ]
     },
     "execution_count": 9,
     "metadata": {},
     "output_type": "execute_result"
    },
    {
     "data": {
      "image/png": "[encoded data removed]",
      "text/plain": [
       "<Figure size 432x288 with 1 Axes>"
      ]
     },
     "metadata": {},
     "output_type": "display_data"
    }
   ],
   "source": [
    "# 美國總統身高統計\n",
    "!head -4 president_heights.csv\n",
    "import pandas as pd\n",
    "data = pd.read_csv(\"president_heights.csv\")\n",
    "heights = np.array(data[\"height(cm)\"])\n",
    "print(heights)\n",
    "\n",
    "print(\"mean height:\",heights.mean())\n",
    "print(\"standard deviation:\",heights.std())\n",
    "print(\"minimum height:\",heights.min())\n",
    "print(\"maximum heights:\",heights.max())\n",
    "# 中位數\n",
    "print(\"25 th percentile:\" , np.percentile(heights,25))\n",
    "print(\"median: \",np.median(heights))\n",
    "print(\"75th percentile:\",np.percentile(heights,75))\n",
    "%matplotlib inline\n",
    "import matplotlib.pyplot as plt\n",
    "import seaborn ; seaborn.set()\n",
    "plt.hist(heights)\n",
    "plt.title(\"hight distribution of US president\")\n",
    "plt.xlabel(\"height (cm)\")\n",
    "plt.ylabel(\"number\")"
   ]
  }
 ],
 "metadata": {
  "kernelspec": {
   "display_name": "keras",
   "language": "python",
   "name": "keras"
  },
  "language_info": {
   "codemirror_mode": {
    "name": "ipython",
    "version": 3
   },
   "file_extension": ".py",
   "mimetype": "text/x-python",
   "name": "python",
   "nbconvert_exporter": "python",
   "pygments_lexer": "ipython3",
   "version": "3.7.7"
  }
 },
 "nbformat": 4,
 "nbformat_minor": 4
}
