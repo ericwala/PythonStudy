{
 "cells": [
  {
   "cell_type": "code",
   "execution_count": 3,
   "metadata": {},
   "outputs": [
    {
     "name": "stderr",
     "output_type": "stream",
     "text": [
      "C:\\Users\\a2823\\anaconda3\\envs\\keras\\lib\\site-packages\\ipykernel_launcher.py:14: UserWarning: Update your `Dense` call to the Keras 2 API: `Dense(input_dim=1, units=1)`\n",
      "  \n"
     ]
    },
    {
     "name": "stdout",
     "output_type": "stream",
     "text": [
      "test before save: [[1.866086 ]\n",
      " [2.2167623]]\n",
      "test after load: [[1.866086 ]\n",
      " [2.2167623]]\n"
     ]
    },
    {
     "data": {
      "text/plain": [
       "\"\\n# save and load weights\\nmodel.save_weights('my_model_weights.h5')\\nmodel.load_weights('my_model_weights.h5')\\n# save and load fresh network without trained weights\\nfrom keras.models import model_from_json\\njson_string = model.to_json()\\nmodel = model_from_json(json_string)\\n\""
      ]
     },
     "execution_count": 3,
     "metadata": {},
     "output_type": "execute_result"
    }
   ],
   "source": [
    "import numpy as np\n",
    "np.random.seed(1337)\n",
    "\n",
    "from keras.models import Sequential\n",
    "from keras.layers import Dense\n",
    "from keras.models import load_model\n",
    "# create some data\n",
    "X = np.linspace(-1,1,200)\n",
    "np.random.shuffle(X)#randomize the data\n",
    "Y = 0.5*X + 2 + np.random.normal(0, 0.05, (200, ))\n",
    "X_train, Y_train = X[:160],Y[:160]\n",
    "X_test, Y_test = X[160:], Y[160:]\n",
    "model = Sequential()\n",
    "model.add(Dense(output_dim=1, input_dim=1))\n",
    "model.compile(loss=\"mse\",optimizer=\"sgd\" )\n",
    "for stage in range(301):\n",
    "    cost = model.train_on_batch(X_train, Y_train)\n",
    "# save\n",
    "print(\"test before save:\",model.predict(X_test[0:2]))\n",
    "model.save(\"my_model.h5\")\n",
    "del model #delete the exist model\n",
    "\n",
    "# load\n",
    "model = load_model(\"my_model.h5\")\n",
    "print(\"test after load:\",model.predict(X_test[0:2]))\n",
    "\n",
    "\"\"\"\n",
    "# save and load weights\n",
    "model.save_weights('my_model_weights.h5')\n",
    "model.load_weights('my_model_weights.h5')\n",
    "# save and load fresh network without trained weights\n",
    "from keras.models import model_from_json\n",
    "json_string = model.to_json()\n",
    "model = model_from_json(json_string)\n",
    "\"\"\"\n",
    "\n"
   ]
  }
 ],
 "metadata": {
  "kernelspec": {
   "display_name": "keras",
   "language": "python",
   "name": "keras"
  },
  "language_info": {
   "codemirror_mode": {
    "name": "ipython",
    "version": 3
   },
   "file_extension": ".py",
   "mimetype": "text/x-python",
   "name": "python",
   "nbconvert_exporter": "python",
   "pygments_lexer": "ipython3",
   "version": "3.7.7"
  }
 },
 "nbformat": 4,
 "nbformat_minor": 4
}
