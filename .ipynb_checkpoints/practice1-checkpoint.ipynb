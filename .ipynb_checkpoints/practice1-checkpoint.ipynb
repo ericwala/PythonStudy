{
 "cells": [
  {
   "cell_type": "code",
   "execution_count": 12,
   "metadata": {
    "scrolled": true
   },
   "outputs": [
    {
     "name": "stdout",
     "output_type": "stream",
     "text": [
      "False\n",
      "2\n",
      "3\n",
      "4\n",
      "5\n",
      "6\n",
      "7\n",
      "8\n",
      "9\n",
      "The loop will break\n"
     ]
    }
   ],
   "source": [
    "condition = 1\n",
    "print(True == condition)\n",
    "\n",
    "while condition:\n",
    "    print(condition)\n",
    "    condition += 1\n",
    "    if condition == 10:\n",
    "        condition = 0\n",
    "    # False == 0\n",
    "        print(\"The loop will break\")\n",
    "# while condition < 10:\n",
    "#     condition = condition + 1\n",
    "#     print(condition)  \n",
    "# print(\"hello world\")\n",
    "    \n",
    "#     print(\"Ricardo is so handsome\")"
   ]
  },
  {
   "cell_type": "code",
   "execution_count": 6,
   "metadata": {},
   "outputs": [
    {
     "name": "stdout",
     "output_type": "stream",
     "text": [
      "1024\n",
      "146.28571428571428\n",
      "20.897959183673468\n",
      "2.9854227405247813\n",
      "success\n"
     ]
    }
   ],
   "source": [
    "i = 1024\n",
    "while i:\n",
    "    print(i)\n",
    "    i /= 7\n",
    "    if i <= 1:\n",
    "        i = False\n",
    "        print(\"success\")\n",
    "        \n",
    "\n",
    "    "
   ]
  },
  {
   "cell_type": "code",
   "execution_count": 3,
   "metadata": {},
   "outputs": [
    {
     "name": "stdout",
     "output_type": "stream",
     "text": [
      "1\n",
      "in of for\n",
      "2\n",
      "in of for\n",
      "3\n",
      "in of for\n",
      "4\n",
      "in of for\n",
      "5\n",
      "in of for\n",
      "675\n",
      "in of for\n",
      "345\n",
      "in of for\n",
      "12\n",
      "in of for\n",
      "3\n",
      "in of for\n",
      "outer of for\n"
     ]
    }
   ],
   "source": [
    "example_list = [1,2,3,4,5,675,345,12,3]\n",
    "for i in example_list:\n",
    "# i不停疊代順序中不同的值\n",
    "    print(i)\n",
    "    print('in of for')\n",
    "print('outer of for')\n"
   ]
  },
  {
   "cell_type": "code",
   "execution_count": 4,
   "metadata": {},
   "outputs": [
    {
     "name": "stdout",
     "output_type": "stream",
     "text": [
      "<class 'int'>\n",
      "<class 'str'>\n",
      "<class 'bool'>\n"
     ]
    }
   ],
   "source": [
    "print(type(56))\n",
    "# 輸出為<class'int'>\n",
    "# 整數int 浮點數float 布林值bool\n",
    "print(type(\"true\"))\n",
    "print(type(True))"
   ]
  },
  {
   "cell_type": "code",
   "execution_count": 5,
   "metadata": {},
   "outputs": [
    {
     "name": "stdout",
     "output_type": "stream",
     "text": [
      "True\n",
      "False\n",
      "True\n"
     ]
    }
   ],
   "source": [
    "print(2+3==6-1)\n",
    "print(1+2!=2+1)\n",
    "print(not(3>5))"
   ]
  },
  {
   "cell_type": "code",
   "execution_count": 6,
   "metadata": {},
   "outputs": [
    {
     "name": "stdout",
     "output_type": "stream",
     "text": [
      "True\n",
      "False\n",
      "False\n",
      "True\n"
     ]
    }
   ],
   "source": [
    "print(5>3 and 9>6)\n",
    "print(3>5 or 6>9)\n",
    "print(5>3 and 6>9)\n",
    "print(5>3 or 9>6)\n",
    "#"
   ]
  },
  {
   "cell_type": "code",
   "execution_count": 7,
   "metadata": {},
   "outputs": [
    {
     "name": "stdout",
     "output_type": "stream",
     "text": [
      "15\n",
      "0\n",
      "50\n",
      "1.6666666666666667\n",
      "4\n",
      "2\n",
      "100000\n"
     ]
    }
   ],
   "source": [
    "\n",
    "\"\"\"\n",
    "+=相加後指定給原來的數 -=相減後指定給原來的樹 *=相乘後再指定給原變\n",
    "/=相除後再指定給原變 %=相除後得到餘數再指定給原變 //=得到商數再指定給原變 **=指數運算後再指定給原變數\n",
    "\"\"\"\n",
    "i = 10\n",
    "i += 5\n",
    "print(i)\n",
    "i -= 15\n",
    "print(i)\n",
    "i = 10\n",
    "i *= 5\n",
    "print(i)\n",
    "i = 10\n",
    "i /= 6\n",
    "print(i)\n",
    "i = 10\n",
    "i %= 6\n",
    "print(i)\n",
    "i = 10\n",
    "i //= 5\n",
    "print(i)\n",
    "i = 10\n",
    "i **= 5\n",
    "print(i)"
   ]
  },
  {
   "cell_type": "code",
   "execution_count": 8,
   "metadata": {},
   "outputs": [
    {
     "name": "stdout",
     "output_type": "stream",
     "text": [
      "item1 item2 item3\n",
      "item1-item2-item3\n",
      "item1 item2 item3\n",
      "item1:item2:item3\n"
     ]
    }
   ],
   "source": [
    "\"\"\"\n",
    "print(項目1[, 項目2,…, sep=分隔字元, end=結束字元])\n",
    "\"\"\"\n",
    "print(\"item1\",\"item2\",\"item3\")\n",
    "print(\"item1\",\"item2\",\"item3\",sep = \"-\")\n",
    "print(\"item1\",\"item2\",\"item3\")\n",
    "print(\"item1\",end =\":\") \n",
    "print(\"item2\",end =\":\")\n",
    "print(\"item3\") "
   ]
  },
  {
   "cell_type": "code",
   "execution_count": 12,
   "metadata": {},
   "outputs": [
    {
     "name": "stdout",
     "output_type": "stream",
     "text": [
      "Hello, Peter. You have 999 messages.\n",
      "你好，俊延。你的帳戶餘額還有987元。昨天俊延還有987元\n"
     ]
    }
   ],
   "source": [
    "print('Hello, {:s}. You have {:d} messages.'.format('Peter', 999))\n",
    "print(\"你好，{0:s}。你的帳戶餘額還有{1:d}元。昨天{0}還有{1}元\".format(\"俊延\",987))"
   ]
  },
  {
   "cell_type": "code",
   "execution_count": 14,
   "metadata": {},
   "outputs": [
    {
     "name": "stdout",
     "output_type": "stream",
     "text": [
      "1 99.30 Justin\n",
      "1 99.30 Justin\n"
     ]
    }
   ],
   "source": [
    "text = '%d %.2f %s' % (1, 99.3, 'Justin')\n",
    "print(text)\n",
    "\n",
    "print('%d %.2f %s' % (1, 99.3, 'Justin'))\n"
   ]
  }
 ],
 "metadata": {
  "kernelspec": {
   "display_name": "pythonstudy",
   "language": "python",
   "name": "pythonstudy"
  },
  "language_info": {
   "codemirror_mode": {
    "name": "ipython",
    "version": 3
   },
   "file_extension": ".py",
   "mimetype": "text/x-python",
   "name": "python",
   "nbconvert_exporter": "python",
   "pygments_lexer": "ipython3",
   "version": "3.7.7"
  }
 },
 "nbformat": 4,
 "nbformat_minor": 4
}
