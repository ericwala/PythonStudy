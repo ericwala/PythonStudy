{
 "cells": [
  {
   "cell_type": "code",
   "execution_count": null,
   "metadata": {
    "scrolled": true
   },
   "outputs": [],
   "source": [
    "condition = 1\n",
    "print(True == condition)\n",
    "\n",
    "while condition:\n",
    "    print(condition)\n",
    "    condition += 1\n",
    "    if condition == 10:\n",
    "        condition = 0\n",
    "    # False == 0\n",
    "        print(\"The loop will break\")\n",
    "# while condition < 10:\n",
    "#     condition = condition + 1\n",
    "#     print(condition)  \n",
    "# print(\"hello world\")\n",
    "    \n",
    "#     print(\"Ricardo is so handsome\")"
   ]
  },
  {
   "cell_type": "code",
   "execution_count": null,
   "metadata": {},
   "outputs": [],
   "source": [
    "i = 1024\n",
    "while i:\n",
    "    print(i)\n",
    "    i /= 7\n",
    "    if i <= 1:\n",
    "        i = False\n",
    "        print(\"success\")\n",
    "        \n",
    "\n",
    "    "
   ]
  },
  {
   "cell_type": "code",
   "execution_count": null,
   "metadata": {},
   "outputs": [],
   "source": [
    "example_list = [1,2,3,4,5,675,345,12,3]\n",
    "for i in example_list:\n",
    "# i不停疊代順序中不同的值\n",
    "    print(i)\n",
    "    print('in of for')\n",
    "print('outer of for')\n"
   ]
  },
  {
   "cell_type": "code",
   "execution_count": null,
   "metadata": {},
   "outputs": [],
   "source": [
    "print(type(56))\n",
    "# 輸出為<class'int'>\n",
    "# 整數int 浮點數float 布林值bool\n",
    "print(type(\"true\"))\n",
    "print(type(True))"
   ]
  },
  {
   "cell_type": "code",
   "execution_count": null,
   "metadata": {},
   "outputs": [],
   "source": [
    "print(2+3==6-1)\n",
    "print(1+2!=2+1)\n",
    "print(not(3>5))"
   ]
  },
  {
   "cell_type": "code",
   "execution_count": null,
   "metadata": {},
   "outputs": [],
   "source": [
    "print(5>3 and 9>6)\n",
    "print(3>5 or 6>9)\n",
    "print(5>3 and 6>9)\n",
    "print(5>3 or 9>6)\n",
    "#"
   ]
  },
  {
   "cell_type": "code",
   "execution_count": null,
   "metadata": {},
   "outputs": [],
   "source": [
    "\n",
    "\"\"\"\n",
    "+=相加後指定給原來的數 -=相減後指定給原來的樹 *=相乘後再指定給原變\n",
    "/=相除後再指定給原變 %=相除後得到餘數再指定給原變 //=得到商數再指定給原變 **=指數運算後再指定給原變數\n",
    "\"\"\"\n",
    "i = 10\n",
    "i += 5\n",
    "print(i)\n",
    "i -= 15\n",
    "print(i)\n",
    "i = 10\n",
    "i *= 5\n",
    "print(i)\n",
    "i = 10\n",
    "i /= 6\n",
    "print(i)\n",
    "i = 10\n",
    "i %= 6\n",
    "print(i)\n",
    "i = 10\n",
    "i //= 5\n",
    "print(i)\n",
    "i = 10\n",
    "i **= 5\n",
    "print(i)"
   ]
  },
  {
   "cell_type": "code",
   "execution_count": null,
   "metadata": {},
   "outputs": [],
   "source": [
    "\"\"\"\n",
    "print(項目1[, 項目2,…, sep=分隔字元, end=結束字元])\n",
    "\"\"\"\n",
    "print(\"item1\",\"item2\",\"item3\")\n",
    "print(\"item1\",\"item2\",\"item3\",sep = \"-\")\n",
    "print(\"item1\",\"item2\",\"item3\")\n",
    "print(\"item1\",end =\":\") \n",
    "print(\"item2\",end =\":\")\n",
    "print(\"item3\") "
   ]
  },
  {
   "cell_type": "code",
   "execution_count": null,
   "metadata": {},
   "outputs": [],
   "source": [
    "print('Hello, {:s}. You have {:d} messages.'.format('Peter', 999))\n",
    "print(\"你好，{0:s}。你的帳戶餘額還有{1:d}元。昨天{0}還有{1}元\".format(\"俊延\",987))"
   ]
  },
  {
   "cell_type": "code",
   "execution_count": null,
   "metadata": {},
   "outputs": [],
   "source": [
    "text = '%d %.2f %s' % (1, 99.3, 'Justin')\n",
    "print(text)\n",
    "\n",
    "print('%d %.2f %s' % (1, 99.3, 'Justin'))\n"
   ]
  },
  {
   "cell_type": "code",
   "execution_count": null,
   "metadata": {},
   "outputs": [],
   "source": [
    "# 迴圈練習\n",
    "\n",
    "for i in range(3):\n",
    "    print(i, end=\",\" )\n",
    "print(\" \")\n",
    "for n in range(1,10):\n",
    "    if (n==6):\n",
    "        break\n",
    "    print(n, end =\",\")\n",
    "print(\" \")\n",
    "for n in range(1,10):\n",
    "    if (n==6):\n",
    "        continue\n",
    "    print(n, end =\",\")\n",
    "total = n = 0\n",
    "while n < 10:\n",
    "    n += 1\n",
    "    total += n \n",
    "    print(total, end=\",\")\n",
    "\n"
   ]
  },
  {
   "cell_type": "code",
   "execution_count": null,
   "metadata": {},
   "outputs": [],
   "source": [
    "# list practice\n",
    "list1 = [1,2,3]\n",
    "print(list1 [1],list1[0])\n",
    "# 改變串列元素\n",
    "list1 = [1,2,3,4,5,6]\n",
    "list1[0] = 7\n",
    "print(list1[0] )\n",
    "list1 = [\"banana\", \"apple\", \"orange\"]\n",
    "for f in list1:\n",
    "    print(f,sep=\" \")\n",
    "    \n",
    "list2 = [1,2,3,4,5]\n",
    "for s in list2:\n",
    "    \n",
    "     print(s,)\n",
    "scores = [13,28,39]\n",
    "print(len(scores))"
   ]
  },
  {
   "cell_type": "code",
   "execution_count": null,
   "metadata": {},
   "outputs": [],
   "source": [
    "\n",
    "subjects = ['chinese', 'math', 'english']\n",
    "scores = [85, 79, 93]\n",
    "for i, j in enumerate(subjects):\n",
    "    print(j, ':', scores[i])\n",
    "subjects = ['chinese', 'math', 'english']\n",
    "scores = [85, 79, 93]\n",
    "for i in range(len(subjects)):\n",
    "    print(subjects[i],\":\",scores[i])\n",
    "  "
   ]
  },
  {
   "cell_type": "code",
   "execution_count": null,
   "metadata": {},
   "outputs": [],
   "source": [
    "list1 =[\"banana\",\"apple\",\"orange\"]\n",
    "n = list1.index(\"apple\")\n",
    "print(n)\n",
    "\n",
    "n = list1.count(\"apple\")\n",
    "print(n)\n",
    "m = list1.count(\"pear\")\n",
    "print(m)"
   ]
  },
  {
   "cell_type": "code",
   "execution_count": null,
   "metadata": {},
   "outputs": [],
   "source": [
    "number_list = [3,1,2,5,4,]\n",
    "number_list.sort()\n",
    "print(number_list)\n",
    "number_list = [3,1,2,5,4]\n",
    "number_list.reverse()\n",
    "print(number_list)\n",
    "number_list = [3,4,5,2,1]\n",
    "number_list2 = sorted(number_list,reverse = True)\n",
    "print(number_list2)\n",
    "templist=[25,50,100,150,200,300,33]\n",
    "print(sorted(templist,key=int))\n",
    "print(sorted(templist,key=int,reverse=True))"
   ]
  },
  {
   "cell_type": "code",
   "execution_count": 14,
   "metadata": {},
   "outputs": [
    {
     "name": "stdout",
     "output_type": "stream",
     "text": [
      "hello\n",
      "total 340\n",
      "2 [3, 5, 7, 9]\n",
      "1 [3, 5, 7, 9]\n"
     ]
    }
   ],
   "source": [
    "# 建立函式\n",
    "def print_hello():\n",
    "    print(\"hello\")\n",
    "print_hello()\n",
    "def sum_scores(scores):\n",
    "    sum = 0\n",
    "    for n in scores:\n",
    "        sum += n ;\n",
    "    return sum\n",
    "scores = [70,80,90,100]\n",
    "sum = sum_scores(scores)\n",
    "\n",
    "print(\"total\",sum)\n",
    "def increase(num,num_list):\n",
    "    num += 1\n",
    "    for i in range(len(num_list)):\n",
    "        num_list[i] += 1\n",
    "    print(num,num_list)\n",
    "a = 1\n",
    "b = [2,4,6,8]\n",
    "increase(a,b)\n",
    "print(a,b)\n"
   ]
  },
  {
   "cell_type": "code",
   "execution_count": 1,
   "metadata": {},
   "outputs": [
    {
     "name": "stdout",
     "output_type": "stream",
     "text": [
      "總分 435\n"
     ]
    }
   ],
   "source": [
    "\n",
    "def sum_scores(scores):\n",
    "    sum = 0\n",
    "    for n in scores:\n",
    "        sum += n;\n",
    "    return sum\n",
    "scores = [70, 80, 90, 95, 100]\n",
    "sum = sum_scores(scores)\n",
    "print('總分', sum)"
   ]
  },
  {
   "cell_type": "code",
   "execution_count": 10,
   "metadata": {},
   "outputs": [
    {
     "data": {
      "text/plain": [
       "10"
      ]
     },
     "execution_count": 10,
     "metadata": {},
     "output_type": "execute_result"
    }
   ],
   "source": [
    "# \n",
    "def find_max(num1, num2):\n",
    "    if num1 > num2:\n",
    "        return num1\n",
    "    else:\n",
    "        return num2"
   ]
  },
  {
   "cell_type": "code",
   "execution_count": 11,
   "metadata": {},
   "outputs": [
    {
     "data": {
      "text/plain": [
       "9"
      ]
     },
     "execution_count": 11,
     "metadata": {},
     "output_type": "execute_result"
    }
   ],
   "source": [
    "f = lambda num1, num2: num1 if num1 > num2 else num2\n",
    "f(5,9)"
   ]
  },
  {
   "cell_type": "code",
   "execution_count": 13,
   "metadata": {},
   "outputs": [
    {
     "name": "stdout",
     "output_type": "stream",
     "text": [
      "50\n",
      "50\n",
      "10\n",
      "8\n"
     ]
    }
   ],
   "source": [
    "# filter 用法與lambda練習\n",
    "scores=[90,50,100,80,60]\n",
    "f = lambda x: True if x < 60 else False\n",
    "fail_scores = filter(f,scores)\n",
    "for item in fail_scores:\n",
    "    print(item)\n",
    "\n",
    "scores=[90,50,10,8,60]\n",
    "fail_scores = filter(lambda x: True if x < 60 else False,scores)\n",
    "for item in fail_scores:\n",
    "    print(item)\n"
   ]
  },
  {
   "cell_type": "code",
   "execution_count": 15,
   "metadata": {},
   "outputs": [
    {
     "name": "stdout",
     "output_type": "stream",
     "text": [
      "60,60,65,60,60,60,"
     ]
    }
   ],
   "source": [
    "# map()練習\n",
    "scores = [52,55,65,54,53,51]\n",
    "new_scores = map(lambda x:60 if 50 <= x < 60 else x,scores)\n",
    "for item in new_scores:\n",
    "    print(item,end=\",\")\n"
   ]
  }
 ],
 "metadata": {
  "kernelspec": {
   "display_name": "pythonstudy",
   "language": "python",
   "name": "pythonstudy"
  },
  "language_info": {
   "codemirror_mode": {
    "name": "ipython",
    "version": 3
   },
   "file_extension": ".py",
   "mimetype": "text/x-python",
   "name": "python",
   "nbconvert_exporter": "python",
   "pygments_lexer": "ipython3",
   "version": "3.7.7"
  }
 },
 "nbformat": 4,
 "nbformat_minor": 4
}
