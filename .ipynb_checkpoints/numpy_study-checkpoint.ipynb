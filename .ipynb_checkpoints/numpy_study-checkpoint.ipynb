{
 "cells": [
  {
   "cell_type": "code",
   "execution_count": 32,
   "metadata": {},
   "outputs": [
    {
     "data": {
      "text/plain": [
       "array([[1., 0.],\n",
       "       [0., 1.]])"
      ]
     },
     "execution_count": 32,
     "metadata": {},
     "output_type": "execute_result"
    }
   ],
   "source": [
    "L =[0,1,2,3,4,5,6,7,8,9]\n",
    "type(L[0])\n",
    "L3 =[True,4,3.0,\"s\"]\n",
    "[type(item) for item in L3]"
   ]
  },
  {
   "cell_type": "code",
   "execution_count": 30,
   "metadata": {},
   "outputs": [
    {
     "data": {
      "text/plain": [
       "array([1., 1., 1.])"
      ]
     },
     "execution_count": 30,
     "metadata": {},
     "output_type": "execute_result"
    }
   ],
   "source": [
    "import numpy as np\n",
    "import array\n",
    "l = list(range(10))\n",
    "a = array.array(\"i\",l)\n",
    "a\n",
    "# 明確設立資料型態以dtype關鍵字表示\n",
    "np.array([1,2,3,4,5], dtype= \"float32\")\n",
    "# 使用巢狀list產生多維陣列\n",
    "np.array([range(i,i+3) for i in [2,4,6]])\n",
    "# 內層每一個list被當作產出結果二微陣列的每個內容\n",
    "# 內容為0長度為10的陣列\n",
    "np.zeros(10,dtype = int)\n",
    "# 內容為1,3x5的浮點數陣列\n",
    "np.ones((3,5),dtype=float)\n",
    "# 建立填滿3.14內容的3x5陣列\n",
    "np.full((3,5),3.14)\n",
    "# 建立依序填滿的序列，從0~20間格為2\n",
    "np.arange(0,20,2)\n",
    "# 建立5個值陣列，在0,1間均勻分布\n",
    "np.linspace(0,1,5)\n",
    "# 建立平均分布3x3陣列,在0,1之間的亂數值\n",
    "np.random.random((3,3))\n",
    "# 建立3x3陣列,內容為常態分佈亂數值\n",
    "# 平均值0標準差!\n",
    "np.random.normal(0,1,(3,3))\n",
    "# 建立平均分布3x3陣列,在0~10之間的整數亂數值\n",
    "np.random.randint(0,10,(3,3))\n",
    "# 3X3單位矩陣\n",
    "np.eye(3)\n",
    "# 建立未初始化的陣列\n",
    "np.empty(3)\n"
   ]
  },
  {
   "cell_type": "code",
   "execution_count": 46,
   "metadata": {},
   "outputs": [
    {
     "name": "stdout",
     "output_type": "stream",
     "text": [
      "x3 ndim: 3\n",
      "x3 shape (3, 4, 5)\n",
      "x3 size 60\n",
      "dtype: int32\n",
      "itemsize: 4 bytes\n",
      "nbytes: 240 bytes\n",
      "[[3 5 2 4]\n",
      " [7 6 8 8]\n",
      " [1 6 7 7]]\n",
      "[[12  5  2  4]\n",
      " [ 7  6  8  8]\n",
      " [ 1  6  7  7]]\n"
     ]
    }
   ],
   "source": [
    "import numpy as np\n",
    "# seed確保每次執行相同亂數\n",
    "np.random.seed(0)\n",
    "x1 = np.random.randint(10,size = 6)\n",
    "x2 = np.random.randint(10,size = (3,4))\n",
    "x3 = np.random.randint(10,size = (3, 4, 5))\n",
    "print(\"x3 ndim:\", x3.ndim)\n",
    "print(\"x3 shape\", x3.shape)\n",
    "print(\"x3 size\", x3.size)\n",
    "print(\"dtype:\",x3.dtype)\n",
    "print(\"itemsize:\",x3.itemsize,\"bytes\")\n",
    "print(\"nbytes:\",x3.nbytes,\"bytes\")\n",
    "x1\n",
    "print(x2)\n",
    "x2[0,2]\n",
    "x2[0,0] = 12\n",
    "print(x2)"
   ]
  },
  {
   "cell_type": "code",
   "execution_count": 54,
   "metadata": {},
   "outputs": [
    {
     "name": "stdout",
     "output_type": "stream",
     "text": [
      "[0 1 2 3 4]\n",
      "[5 6 7 8 9]\n",
      "[3 4]\n",
      "[0 2 4 6 8]\n"
     ]
    },
    {
     "data": {
      "text/plain": [
       "array([9, 8, 7, 6, 5, 4, 3, 2, 1, 0])"
      ]
     },
     "execution_count": 54,
     "metadata": {},
     "output_type": "execute_result"
    }
   ],
   "source": [
    "# 一維子陣列 x[start:stop:step]\n",
    "x = np.arange(10)\n",
    "x\n",
    "print(x[:5])\n",
    "print(x[5:])\n",
    "print(x[3:5])\n",
    "print(x[::2])\n",
    "x[::-1]#反轉取得陣列所有元素\n"
   ]
  },
  {
   "cell_type": "code",
   "execution_count": 55,
   "metadata": {},
   "outputs": [
    {
     "data": {
      "text/plain": [
       "array([[12,  5,  2,  4],\n",
       "       [ 7,  6,  8,  8],\n",
       "       [ 1,  6,  7,  7]])"
      ]
     },
     "execution_count": 55,
     "metadata": {},
     "output_type": "execute_result"
    }
   ],
   "source": [
    "# 多維子陣列\n",
    "x2\n"
   ]
  }
 ],
 "metadata": {
  "kernelspec": {
   "display_name": "keras",
   "language": "python",
   "name": "keras"
  },
  "language_info": {
   "codemirror_mode": {
    "name": "ipython",
    "version": 3
   },
   "file_extension": ".py",
   "mimetype": "text/x-python",
   "name": "python",
   "nbconvert_exporter": "python",
   "pygments_lexer": "ipython3",
   "version": "3.7.7"
  }
 },
 "nbformat": 4,
 "nbformat_minor": 4
}
