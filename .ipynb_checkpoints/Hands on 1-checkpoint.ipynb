{
 "cells": [
  {
   "cell_type": "code",
   "execution_count": 9,
   "metadata": {},
   "outputs": [
    {
     "name": "stdout",
     "output_type": "stream",
     "text": [
      "67.5\n"
     ]
    }
   ],
   "source": [
    "a = 7\n",
    "b = 8\n",
    "c = 9\n",
    "print((a + b) * c / 2)\n"
   ]
  },
  {
   "cell_type": "code",
   "execution_count": 11,
   "metadata": {},
   "outputs": [
    {
     "name": "stdout",
     "output_type": "stream",
     "text": [
      "Please enter the top10\n",
      "Please enter the bottom20\n",
      "Please enter the height30\n",
      "The area is 450.0\n"
     ]
    }
   ],
   "source": [
    "top = int(input(\"Please enter the top: \"))\n",
    "bottom =  int(input(\"Please enter the bottom: \"))\n",
    "height =  int(input(\"Please enter the height: \"))\n",
    "\n",
    "print(\"The area is\", (top + bottom) * height / 2, 'Thank you very much')"
   ]
  },
  {
   "cell_type": "code",
   "execution_count": 9,
   "metadata": {},
   "outputs": [
    {
     "name": "stdout",
     "output_type": "stream",
     "text": [
      "請輸入本金: 49494\n",
      "請輸入年利率0.02\n",
      "請輸入年分8\n",
      "你將在 8 年後得到 57990.10940332614 元\n"
     ]
    }
   ],
   "source": [
    "本金 = float(input(\"請輸入本金: \"))\n",
    "利率 = float(input(\"請輸入年利率\"))\n",
    "年 = int(input(\"請輸入年分\"))\n",
    "\n",
    "print(\"你將在\",年,\"年後得到\",(1+利率) ** 年 * 本金,\"元\")\n"
   ]
  },
  {
   "cell_type": "code",
   "execution_count": 17,
   "metadata": {},
   "outputs": [
    {
     "name": "stdout",
     "output_type": "stream",
     "text": [
      "請輸入本金: 39393\n",
      "請輸入年利率0.02\n",
      "請輸入年分384\n",
      "你將在 384 年後得到 79046931.0 元\n"
     ]
    }
   ],
   "source": [
    "import numpy\n",
    "import numpy as np\n",
    "本金 = float(input(\"請輸入本金: \"))\n",
    "利率 = float(input(\"請輸入年利率\"))\n",
    "年 = int(input(\"請輸入年分\"))\n",
    "本金 = (1+利率) ** 年 * 本金\n",
    "\n",
    "print(\"你將在\",年,\"年後得到\",np.around(本金,decimals=0),\"元\")\n"
   ]
  },
  {
   "cell_type": "code",
   "execution_count": 26,
   "metadata": {},
   "outputs": [
    {
     "name": "stdout",
     "output_type": "stream",
     "text": [
      "國文成績40\n",
      "英文成績38\n",
      "數學成績23\n",
      "總分 101.0 分\n",
      "你好爛\n"
     ]
    }
   ],
   "source": [
    "國文 = float(input(\"國文成績\"))\n",
    "英文 = float(input(\"英文成績\"))\n",
    "數學 = float(input(\"數學成績\"))\n",
    "grades = 國文 + 英文 + 數學\n",
    "print(\"總分:\",grades,\"分\")\n",
    "if grades >= 240:\n",
    "    print(\"你好棒\")\n",
    "if (grades < 240) and (grades >= 180):\n",
    "    print(\"你普普\")\n",
    "if grades < 180:\n",
    "    print(\"你好爛\")\n"
   ]
  }
 ],
 "metadata": {
  "kernelspec": {
   "display_name": "pythonstudy",
   "language": "python",
   "name": "pythonstudy"
  },
  "language_info": {
   "codemirror_mode": {
    "name": "ipython",
    "version": 3
   },
   "file_extension": ".py",
   "mimetype": "text/x-python",
   "name": "python",
   "nbconvert_exporter": "python",
   "pygments_lexer": "ipython3",
   "version": "3.7.7"
  }
 },
 "nbformat": 4,
 "nbformat_minor": 4
}
