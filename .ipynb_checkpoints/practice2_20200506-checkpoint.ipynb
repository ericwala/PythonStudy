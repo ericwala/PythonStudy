{
 "cells": [
  {
   "cell_type": "code",
   "execution_count": 19,
   "metadata": {},
   "outputs": [
    {
     "name": "stdout",
     "output_type": "stream",
     "text": [
      "圓面積: 3.14,12.57,28.27,50.27,78.54,\n",
      "圓周長: 6.28,12.57,18.85,25.13,31.42,"
     ]
    }
   ],
   "source": [
    "import math\n",
    "circle_radius=[1,2,3,4,5]\n",
    "print(\"圓面積:\",end=\" \")\n",
    "for radius in circle_radius:\n",
    "    area = math.pi*radius*radius\n",
    "    print('{:.2f}'.format(area),end=\",\")\n",
    "# \\n換行    \n",
    "print(\"\\n圓周長:\",end=\" \")\n",
    "for radius in circle_radius:\n",
    "    perimeter= math.pi*radius*2\n",
    "    print(\"{:.2f}\".format(perimeter),end=',')\n",
    "    "
   ]
  },
  {
   "cell_type": "code",
   "execution_count": 6,
   "metadata": {},
   "outputs": [
    {
     "ename": "ModuleNotFoundError",
     "evalue": "No module named 'circle'",
     "output_type": "error",
     "traceback": [
      "\u001b[1;31m---------------------------------------------------------------------------\u001b[0m",
      "\u001b[1;31mModuleNotFoundError\u001b[0m                       Traceback (most recent call last)",
      "\u001b[1;32m<ipython-input-6-394eb654b0ad>\u001b[0m in \u001b[0;36m<module>\u001b[1;34m\u001b[0m\n\u001b[0;32m     11\u001b[0m     \u001b[1;32mdef\u001b[0m \u001b[0mget_perimeter\u001b[0m\u001b[1;33m(\u001b[0m\u001b[0mself\u001b[0m\u001b[1;33m)\u001b[0m\u001b[1;33m:\u001b[0m\u001b[1;33m\u001b[0m\u001b[1;33m\u001b[0m\u001b[0m\n\u001b[0;32m     12\u001b[0m         \u001b[1;32mreturn\u001b[0m \u001b[0mmath\u001b[0m\u001b[1;33m.\u001b[0m\u001b[0mpi\u001b[0m\u001b[1;33m*\u001b[0m\u001b[0mself_radius\u001b[0m\u001b[1;33m*\u001b[0m\u001b[1;36m2\u001b[0m\u001b[1;33m\u001b[0m\u001b[1;33m\u001b[0m\u001b[0m\n\u001b[1;32m---> 13\u001b[1;33m \u001b[1;32mfrom\u001b[0m \u001b[0mcircle\u001b[0m \u001b[1;32mimport\u001b[0m\u001b[1;33m*\u001b[0m\u001b[1;33m\u001b[0m\u001b[1;33m\u001b[0m\u001b[0m\n\u001b[0m\u001b[0;32m     14\u001b[0m \u001b[0mradius\u001b[0m\u001b[1;33m=\u001b[0m\u001b[0mfloat\u001b[0m\u001b[1;33m(\u001b[0m\u001b[0minput\u001b[0m\u001b[1;33m(\u001b[0m\u001b[1;34m\"pleas enter the radius.\"\u001b[0m\u001b[1;33m)\u001b[0m\u001b[1;33m)\u001b[0m\u001b[1;33m\u001b[0m\u001b[1;33m\u001b[0m\u001b[0m\n\u001b[0;32m     15\u001b[0m \u001b[0mc1\u001b[0m\u001b[1;33m=\u001b[0m \u001b[0mCircle\u001b[0m\u001b[1;33m(\u001b[0m\u001b[0mradius\u001b[0m\u001b[1;33m)\u001b[0m\u001b[1;33m\u001b[0m\u001b[1;33m\u001b[0m\u001b[0m\n",
      "\u001b[1;31mModuleNotFoundError\u001b[0m: No module named 'circle'"
     ]
    }
   ],
   "source": [
    "# 建立類別\n",
    "import math\n",
    "class Circle:\n",
    "    def __init__(self,radius):\n",
    "        self._radius=radius\n",
    "    def get_radius(self):\n",
    "        return self._radius\n",
    "    def set_radius(self,radius):\n",
    "        self._radius=radius\n",
    "    def get_areas(self):\n",
    "        return math.pi*self._radius*self._radius\n",
    "    def get_perimeter(self):\n",
    "        return math.pi*self._radius*2\n",
    "# 從檔案叫出類別\n",
    "from circle import *\n",
    "radius=float(input(\"pleas enter the radius.\"))\n",
    "c1= Circle(radius)\n",
    "print(\"radius\",c1.get_radius())\n",
    "print(\"areas\",c1.get_areas())\n",
    "print(\"perimeter\",c1.get_perimeter)"
   ]
  },
  {
   "cell_type": "code",
   "execution_count": 17,
   "metadata": {},
   "outputs": [
    {
     "name": "stdout",
     "output_type": "stream",
     "text": [
      "1 squared is 1\n",
      "2 squared is 4\n",
      "3 squared is 9\n",
      "252 µs ± 8.55 µs per loop (mean ± std. dev. of 7 runs, 1000 loops each)\n"
     ]
    }
   ],
   "source": [
    "# 練習使用magic指令\n",
    "%run myscript.py\n",
    "%timeit L =  [n**2 for n in range(1000)]\n",
    "\n",
    "\n",
    "\n",
    "\n",
    "    \n"
   ]
  },
  {
   "cell_type": "code",
   "execution_count": 16,
   "metadata": {},
   "outputs": [
    {
     "name": "stdout",
     "output_type": "stream",
     "text": [
      "275 µs ± 3.08 µs per loop (mean ± std. dev. of 7 runs, 1000 loops each)\n"
     ]
    }
   ],
   "source": [
    "# 多加%可幫忙處理多行命令\n",
    "%%timeit \n",
    "L = []\n",
    "for n in range(1000):\n",
    "    L.append(n ** 2)"
   ]
  },
  {
   "cell_type": "code",
   "execution_count": 18,
   "metadata": {},
   "outputs": [
    {
     "name": "stdout",
     "output_type": "stream",
     "text": [
      "['', 'import math\\nmath.sin(2)', 'import math\\nmath.sin(2)\\nprint(In)', 'import math\\nmath.sin(2)\\nprint(In)\\nout', 'import math\\nmath.sin(2)\\nprint(In)\\nOut', 'import math\\nmath.sin(2)\\nmath.cos(2)\\nprint(In)\\nOut', 'import math\\nmath.sin(2)\\nmath.cos(2)\\nprint(In)\\nOut\\nprint(In[1])', 'import math\\nmath.sin(2)\\nmath.cos(2)\\nprint(In)\\nOut\\nprint(In[0])', 'import math\\nmath.sin(2)\\nmath.cos(2)\\nprint(In)\\nOut\\nprint(In[1])', 'import math\\nmath.sin(2)\\nmath.cos(2)\\nprint(In)\\n\\nprint(In[1])', 'import math\\nmath.sin(2)\\nmath.cos(2)\\nprint(In)\\n\\nprint(In[1])\\nprint[Out[1]]', 'import math\\nmath.sin(2)\\nmath.cos(2)\\nprint(In)\\n\\nprint(In[1])\\nprint(Out[1])', 'import math\\nmath.sin(2)\\nmath.cos(2)\\n\\nprint(In[1])\\nprint(Out[1])', 'import math\\nmath.sin(2)\\nmath.cos(2)\\n\\nprint(In[1])\\nprint(Out[2])', 'import math\\nmath.sin(2)\\nmath.cos(2)\\n\\nprint(In[1])\\nprint(Out[2])', 'import math\\nmath.sin(2)\\nmath.cos(2)\\n\\nprint(In[1])\\nprint(Out[1])', 'import math\\nmath.sin(2)\\nmath.cos(2)', 'import math\\nmath.sin(2)\\nmath.cos(2)\\nprint(In)', 'import math\\nmath.sin(2)\\nmath.cos(2)\\nprint(In)\\nOut']\n"
     ]
    },
    {
     "data": {
      "text/plain": [
       "{1: 0.9092974268256817, 16: -0.4161468365471424}"
      ]
     },
     "execution_count": 18,
     "metadata": {},
     "output_type": "execute_result"
    }
   ],
   "source": [
    "import math\n",
    "math.sin(2)\n",
    "math.cos(2)\n",
    "print(In)\n",
    "Out\n"
   ]
  }
 ],
 "metadata": {
  "kernelspec": {
   "display_name": "pythonstudy",
   "language": "python",
   "name": "pythonstudy"
  },
  "language_info": {
   "codemirror_mode": {
    "name": "ipython",
    "version": 3
   },
   "file_extension": ".py",
   "mimetype": "text/x-python",
   "name": "python",
   "nbconvert_exporter": "python",
   "pygments_lexer": "ipython3",
   "version": "3.7.7"
  }
 },
 "nbformat": 4,
 "nbformat_minor": 4
}
