{
 "cells": [
  {
   "cell_type": "code",
   "execution_count": 1,
   "metadata": {
    "scrolled": true
   },
   "outputs": [
    {
     "name": "stderr",
     "output_type": "stream",
     "text": [
      "Using TensorFlow backend.\n",
      "\n",
      "Bad key \"text.kerning_factor\" on line 4 in\n",
      "C:\\Users\\a2823\\anaconda3\\envs\\keras\\lib\\site-packages\\matplotlib\\mpl-data\\stylelib\\_classic_test_patch.mplstyle.\n",
      "You probably need to get an updated matplotlibrc file from\n",
      "https://github.com/matplotlib/matplotlib/blob/v3.1.3/matplotlibrc.template\n",
      "or from the matplotlib source distribution\n"
     ]
    },
    {
     "data": {
      "image/png": "[encoded data removed]",
      "text/plain": [
       "<Figure size 432x288 with 1 Axes>"
      ]
     },
     "metadata": {
      "needs_background": "light"
     },
     "output_type": "display_data"
    },
    {
     "name": "stderr",
     "output_type": "stream",
     "text": [
      "C:\\Users\\a2823\\anaconda3\\envs\\keras\\lib\\site-packages\\ipykernel_launcher.py:19: UserWarning: Update your `Dense` call to the Keras 2 API: `Dense(input_dim=1, units=1)`\n"
     ]
    },
    {
     "name": "stdout",
     "output_type": "stream",
     "text": [
      "training~\n",
      "train cost 4.0225\n",
      "train cost 0.07323855\n",
      "train cost 0.0038627305\n",
      "train cost 0.0026434488\n",
      "\n",
      "Testing~\n",
      "40/40 [==============================] - 0s 383us/step\n",
      "test cost: 0.003136708866804838\n",
      "Weights= [[0.4922711]] \n",
      "biases= [1.9995023]\n"
     ]
    },
    {
     "data": {
      "image/png": "[encoded data removed]",
      "text/plain": [
       "<Figure size 432x288 with 1 Axes>"
      ]
     },
     "metadata": {
      "needs_background": "light"
     },
     "output_type": "display_data"
    }
   ],
   "source": [
    "import numpy as np\n",
    "np.random.seed(1337)#for reproducibility\n",
    "from keras.models import Sequential\n",
    "from keras.layers import Dense\n",
    "import matplotlib.pyplot as plt #visable\n",
    "# create some data\n",
    "X = np.linspace(-1,1,200)\n",
    "np.random.shuffle(X) #randomize the data\n",
    "Y = 0.5*X + 2 +np.random.normal(0,0.05, (200, ))\n",
    "# plot data\n",
    "plt.scatter(X,Y)\n",
    "plt.show()\n",
    "\n",
    "X_train,Y_train = X[:160],Y[:160] #160 data point infront of train\n",
    "X_test, Y_test = X[160:], Y[160:] #40 data point behind test \n",
    "\n",
    "#build a neural network from 1st layer to the last layer\n",
    "model = Sequential()\n",
    "model.add(Dense(output_dim=1, input_dim=1))\n",
    "# choose loss function and optimizing method\n",
    "model.compile(loss='mse',optimizer='sgd')\n",
    "# training\n",
    "print(\"training~\")\n",
    "for step in range(301):\n",
    "    cost = model.train_on_batch(X_train, Y_train)\n",
    "    if step % 100 == 0:\n",
    "        print(\"train cost\", cost)\n",
    "# test\n",
    "print(\"\\nTesting~\")\n",
    "cost = model.evaluate(X_test,Y_test,batch_size=40)\n",
    "print(\"test cost:\",cost)\n",
    "W, b = model.layers[0].get_weights()\n",
    "print(\"Weights=\",W,\"\\nbiases=\",b)\n",
    "\n",
    "#plotting prediction\n",
    "Y_pred = model.predict(X_test)\n",
    "plt.scatter(X_test,Y_test)\n",
    "plt.plot(X_test, Y_pred)\n",
    "plt.show()"
   ]
  },
  {
   "cell_type": "code",
   "execution_count": 2,
   "metadata": {},
   "outputs": [
    {
     "name": "stdout",
     "output_type": "stream",
     "text": [
      "training~~~~\n",
      "Epoch 1/2"
     ]
    },
    {
     "name": "stderr",
     "output_type": "stream",
     "text": [
      "C:\\Users\\a2823\\anaconda3\\envs\\keras\\lib\\site-packages\\ipykernel_launcher.py:35: UserWarning: The `nb_epoch` argument in `fit` has been renamed `epochs`.\n"
     ]
    },
    {
     "name": "stdout",
     "output_type": "stream",
     "text": [
      "\n",
      "60000/60000 [==============================] - 4s 69us/step - loss: 0.3435 - accuracy: 0.9046\n",
      "Epoch 2/2\n",
      "60000/60000 [==============================] - 4s 67us/step - loss: 0.1946 - accuracy: 0.9440\n",
      "\n",
      "Testing~~~\n",
      "10000/10000 [==============================] - 1s 52us/step\n",
      "test loss 0.17407771356031299\n",
      "test accuracy 0.9513000249862671\n"
     ]
    }
   ],
   "source": [
    "# 數字分類集\n",
    "import numpy as np\n",
    "np.random.seed(1337)\n",
    "from keras.datasets import mnist\n",
    "from keras.utils import np_utils\n",
    "from keras.models import Sequential\n",
    "from keras.layers import Dense,Activation\n",
    "from keras.optimizers import RMSprop\n",
    "# download the mnist to the path '~/.keras/datasets/' if it is the first time to be called\n",
    "# X shape (60,000 28x28), y shape (10,000, )\n",
    "(X_train,y_train),(X_test,y_test) = mnist.load_data()\n",
    "\n",
    "# data pre-processing\n",
    "X_train = X_train.reshape(X_train.shape[0],-1)/255. #normalize\n",
    "X_test = X_test.reshape(X_test.shape[0],-1)/255. #normalize\n",
    "y_train = np_utils.to_categorical(y_train,num_classes=10)\n",
    "y_test = np_utils.to_categorical(y_test,num_classes=10)\n",
    "# anthor way to build your neural net\n",
    "model = Sequential([\n",
    "Dense(32,input_dim=784),\n",
    "Activation(\"relu\"),\n",
    "Dense(10),\n",
    "Activation(\"softmax\"),\n",
    "])\n",
    "# Another way to define your optimizer\n",
    "rmsprop = RMSprop(lr=0.001, rho=0.9, epsilon=1e-08, decay=0.0)\n",
    "# We add metrics to get more results you want to see.\n",
    "model.compile(\n",
    "  optimizer=rmsprop,\n",
    "  loss=\"categorical_crossentropy\",\n",
    "  metrics=[\"accuracy\"],\n",
    ")\n",
    "print(\"training~~~~\")\n",
    "# Another way to train the model\n",
    "model.fit(X_train,y_train,nb_epoch = 2,batch_size=32)\n",
    "print(\"\\nTesting~~~\")\n",
    "\n",
    "loss,accuracy = model.evaluate(X_test,y_test)\n",
    "print(\"test loss\",loss)\n",
    "print(\"test accuracy\",accuracy)"
   ]
  },
  {
   "cell_type": "code",
   "execution_count": 3,
   "metadata": {},
   "outputs": [
    {
     "name": "stderr",
     "output_type": "stream",
     "text": [
      "C:\\Users\\a2823\\anaconda3\\envs\\keras\\lib\\site-packages\\ipykernel_launcher.py:26: UserWarning: Update your `Conv2D` call to the Keras 2 API: `Conv2D(input_shape=(1, 28, 28..., kernel_size=(5, 5), filters=32, padding=\"same\")`\n",
      "C:\\Users\\a2823\\anaconda3\\envs\\keras\\lib\\site-packages\\ipykernel_launcher.py:35: UserWarning: Update your `MaxPooling2D` call to the Keras 2 API: `MaxPooling2D(pool_size=(2, 2), strides=(2, 2), padding=\"same\")`\n",
      "C:\\Users\\a2823\\anaconda3\\envs\\keras\\lib\\site-packages\\ipykernel_launcher.py:41: UserWarning: Update your `Conv2D` call to the Keras 2 API: `Conv2D(64, (5, 5), padding=\"same\")`\n",
      "C:\\Users\\a2823\\anaconda3\\envs\\keras\\lib\\site-packages\\ipykernel_launcher.py:46: UserWarning: Update your `MaxPooling2D` call to the Keras 2 API: `MaxPooling2D(pool_size=(2, 2), padding=\"same\")`\n"
     ]
    },
    {
     "name": "stdout",
     "output_type": "stream",
     "text": [
      "training~~~~\n",
      "Epoch 1/1\n",
      "60000/60000 [==============================] - 9s 158us/step - loss: 0.3383 - accuracy: 0.9072\n",
      "testing~~~\n",
      "10000/10000 [==============================] - 1s 78us/step\n",
      "\n",
      "test loss 0.12673253547167407\n",
      "\n",
      "test accuracy 0.9631999731063843\n"
     ]
    }
   ],
   "source": [
    "import numpy as np\n",
    "np.random.seed(1337)\n",
    "from keras.datasets import mnist\n",
    "from keras.utils import np_utils\n",
    "from keras.models import Sequential\n",
    "from keras.layers import Dense,Activation,Convolution2D,MaxPooling2D,Flatten\n",
    "from keras.optimizers import Adam\n",
    "# download the mnist to the path '~/.keras/datasets/' if it is the first time to be called\n",
    "# X shape (60,000 28x28), y shape (10,000, )\n",
    "(X_train,y_train),(X_test,y_test) = mnist.load_data()\n",
    "\n",
    "# data pre-processing\n",
    "X_train = X_train.reshape(-1,1,28,28)\n",
    "X_test = X_test.reshape(-1,1,28,28)\n",
    "y_train = np_utils.to_categorical(y_train, num_classes = 10)\n",
    "y_test = np_utils.to_categorical(y_test,num_classes = 10)\n",
    "\n",
    "# Another way to build your CNN\n",
    "model = Sequential()\n",
    "# Conv layer 1 output shape (32,28,28)\n",
    "model.add(Convolution2D(\n",
    "    nb_filter=32,\n",
    "    nb_row=5,\n",
    "    nb_col=5,\n",
    "    border_mode='same', #padding method\n",
    "    input_shape=(1,28,28),\n",
    "))\n",
    "model.add(Activation(\"relu\"))\n",
    "\n",
    "# Pooling layer 1(max pooling) output shape (32,14,14)\n",
    "\n",
    "model.add(MaxPooling2D(\n",
    "    pool_size=(2,2),\n",
    "    strides=(2,2),\n",
    "    border_mode='same', # padding method\n",
    "    \n",
    "))\n",
    "\n",
    "# Conv layer 2 output shape (64,14,14)\n",
    "\n",
    "model.add(Convolution2D(64,5,5,border_mode=\"same\",))\n",
    "model.add(Activation(\"relu\"))\n",
    "\n",
    "# Pooling layer 1(max pooling) output shape (64,7,7)\n",
    "\n",
    "model.add(MaxPooling2D(pool_size=(2,2), border_mode=\"same\"))\n",
    "\n",
    "# Fully connected layer1 input shape (64*7*7)=(3136).output shape (1024)\n",
    "model.add(Flatten())\n",
    "model.add(Dense(1024))\n",
    "model.add(Activation(\"relu\"))\n",
    "# Fully connected layer2 to shape(10) for 10 classes\n",
    "model.add(Dense(10))\n",
    "model.add(Activation(\"softmax\"))\n",
    "# Another way to define your optimizer\n",
    "adam = Adam(lr = 1e-4)\n",
    "\n",
    "# We add metrics to get more results you want to see \n",
    "model.compile(optimizer = adam,\n",
    "             loss=\"categorical_crossentropy\",\n",
    "             metrics=[\"accuracy\"])\n",
    "print(\"training~~~~\")\n",
    "# Another way to train the model\n",
    "model.fit(X_train,y_train,epochs = 1,batch_size = 32)\n",
    "print(\"testing~~~\")\n",
    "# Evaluate the model with the metrics we defined earlier\n",
    "loss, accuracy = model.evaluate(X_test,y_test)\n",
    "print(\"\\ntest loss\",loss)\n",
    "print(\"\\ntest accuracy\",accuracy)\n",
    "\n"
   ]
  },
  {
   "cell_type": "code",
   "execution_count": 5,
   "metadata": {},
   "outputs": [
    {
     "name": "stdout",
     "output_type": "stream",
     "text": [
      "training~~~~\n",
      "Epoch 1/1\n",
      "60000/60000 [==============================] - 7s 123us/step - loss: 0.3094 - accuracy: 0.9163\n",
      "testing~~~\n",
      "10000/10000 [==============================] - 1s 71us/step\n",
      "\n",
      "test loss 0.1316396517151501\n",
      "\n",
      "test accuracy 0.9609000086784363\n"
     ]
    }
   ],
   "source": [
    "# 上面程式微改良\n",
    "import numpy as np\n",
    "np.random.seed(1337)\n",
    "from keras.datasets import mnist\n",
    "from keras.utils import np_utils\n",
    "from keras.models import Sequential\n",
    "from keras.layers import Dense,Activation,Conv2D,MaxPooling2D,Flatten\n",
    "from keras.optimizers import Adam\n",
    "# download the mnist to the path '~/.keras/datasets/' if it is the first time to be called\n",
    "# X shape (60,000 28x28), y shape (10,000, )\n",
    "(X_train,y_train),(X_test,y_test) = mnist.load_data()\n",
    "# data pre-processing\n",
    "X_train = X_train.reshape(-1,1,28,28)\n",
    "X_test = X_test.reshape(-1,1,28,28)\n",
    "y_train = np_utils.to_categorical(y_train, num_classes = 10)\n",
    "y_test = np_utils.to_categorical(y_test,num_classes = 10)\n",
    "\n",
    "# Another way to build your CNN\n",
    "model = Sequential()\n",
    "# Conv layer 1 output shape (32,28,28)\n",
    "model.add(Conv2D(\n",
    "    filters=32,\n",
    "    kernel_size=(5,5),\n",
    "    padding='same', #padding method\n",
    "    input_shape=(1,28,28),\n",
    "))\n",
    "model.add(Activation(\"relu\"))\n",
    "\n",
    "# Pooling layer 1(max pooling) output shape (32,14,14)\n",
    "\n",
    "model.add(MaxPooling2D(\n",
    "    pool_size=(2,2),\n",
    "    strides=(2,2),\n",
    "    padding='same', # padding method\n",
    "    \n",
    "))\n",
    "\n",
    "# Conv layer 2 output shape (64,14,14)\n",
    "\n",
    "model.add(Conv2D(64,(5,5),padding=\"same\",))\n",
    "model.add(Activation(\"relu\"))\n",
    "\n",
    "# Pooling layer 1(max pooling) output shape (64,7,7)\n",
    "\n",
    "model.add(MaxPooling2D(pool_size=(2,2), padding=\"same\"))\n",
    "\n",
    "# Fully connected layer1 input shape (64*7*7)=(3136).output shape (1024)\n",
    "model.add(Flatten())\n",
    "model.add(Dense(1024))\n",
    "model.add(Activation(\"relu\"))\n",
    "# Fully connected layer2 to shape(10) for 10 classes\n",
    "model.add(Dense(10))\n",
    "model.add(Activation(\"softmax\"))\n",
    "# Another way to define your optimizer\n",
    "adam = Adam(lr = 1e-4)\n",
    "\n",
    "# We add metrics to get more results you want to see \n",
    "model.compile(optimizer = adam,\n",
    "             loss=\"categorical_crossentropy\",\n",
    "             metrics=[\"accuracy\"])\n",
    "print(\"training~~~~\")\n",
    "# Another way to train the model\n",
    "model.fit(X_train,y_train,epochs = 1,batch_size = 32)\n",
    "print(\"testing~~~\")\n",
    "# Evaluate the model with the metrics we defined earlier\n",
    "loss, accuracy = model.evaluate(X_test,y_test)\n",
    "print(\"\\ntest loss\",loss)\n",
    "print(\"\\ntest accuracy\",accuracy)"
   ]
  },
  {
   "cell_type": "code",
   "execution_count": 19,
   "metadata": {},
   "outputs": [
    {
     "name": "stderr",
     "output_type": "stream",
     "text": [
      "C:\\Users\\a2823\\anaconda3\\envs\\keras\\lib\\site-packages\\ipykernel_launcher.py:32: UserWarning: Update your `SimpleRNN` call to the Keras 2 API: `SimpleRNN(batch_input_shape=(None, 28,..., unroll=True, units=50)`\n"
     ]
    },
    {
     "name": "stdout",
     "output_type": "stream",
     "text": [
      "test cost: 2.3548595905303955 test accuracy: 0.1509999930858612\n",
      "test cost: 0.698300838470459 test accuracy: 0.7775999903678894\n",
      "test cost: 0.4386645555496216 test accuracy: 0.8651000261306763\n",
      "test cost: 0.3737656772136688 test accuracy: 0.8876000046730042\n",
      "test cost: 0.48534244298934937 test accuracy: 0.8500000238418579\n",
      "test cost: 0.2915535271167755 test accuracy: 0.9121000170707703\n",
      "test cost: 0.2814701795578003 test accuracy: 0.9133999943733215\n",
      "test cost: 0.2615780234336853 test accuracy: 0.9264000058174133\n",
      "test cost: 0.2112257331609726 test accuracy: 0.9387999773025513\n"
     ]
    }
   ],
   "source": [
    "# practice RNN\n",
    "import numpy as np\n",
    "np.random.seed(1337)\n",
    "from keras.datasets import mnist\n",
    "from keras.utils import np_utils\n",
    "from keras.models import Sequential\n",
    "from keras.layers import SimpleRNN,Activation,Dense\n",
    "from keras.optimizers import Adam\n",
    "\n",
    "TIME_STEPS = 28 #same as the height of the image\n",
    "INPUT_SIZE = 28 #same as the width of the image\n",
    "BATCH_SIZE = 50\n",
    "BATCH_INDEX = 0\n",
    "OUTPUT_SIZE = 10\n",
    "CELL_SIZE = 50\n",
    "LR = 0.001\n",
    "# download the mnist to the path '~/.keras/datasets/' if it is the first time to be called\n",
    "# X shape (60,000 28x28), y shape (10,000, )\n",
    "(X_train,y_train),(X_test,y_test) = mnist.load_data()\n",
    "# data pre-processing\n",
    "X_train = X_train.reshape(-1,28,28)/255\n",
    "X_test = X_test.reshape(-1,28,28)/255\n",
    "y_train = np_utils.to_categorical(y_train, num_classes = 10)\n",
    "y_test = np_utils.to_categorical(y_test,num_classes = 10)\n",
    "# build RNN model\n",
    "model = Sequential()\n",
    "# RNN cell\n",
    "model.add(SimpleRNN(# for batch_input_shape, if using tensorflow as the backend, we have to put None for the batch_size.\n",
    "    # Otherwise, model.evaluate() will get error.\n",
    "    batch_input_shape=(None,TIME_STEPS,INPUT_SIZE),\n",
    "    output_dim =CELL_SIZE,\n",
    "    unroll = True\n",
    "))\n",
    "# output layer\n",
    "model.add(Dense(OUTPUT_SIZE))\n",
    "model.add(Activation(\"softmax\"))\n",
    "# optimizer\n",
    "adam = Adam(LR)\n",
    "model.compile(optimizer = adam,\n",
    "             loss=\"categorical_crossentropy\",\n",
    "             metrics=[\"accuracy\"])\n",
    "# training\n",
    "for step in range(4001):\n",
    "    #data shape = (batch_num,steps , inputs/outputs) \n",
    "    X_batch = X_train[BATCH_INDEX:BATCH_SIZE+BATCH_INDEX,:,:]\n",
    "    Y_batch = y_train[BATCH_INDEX:BATCH_SIZE+BATCH_INDEX,:]\n",
    "    cost = model.train_on_batch(X_batch,Y_batch)\n",
    "    \n",
    "    BATCH_INDEX += BATCH_SIZE\n",
    "    BATCH_INDEX = 0 if BATCH_INDEX >= X_train.shape[0] else BATCH_INDEX\n",
    "    \n",
    "    if step % 500 == 0:\n",
    "        cost, accuracy = model.evaluate(X_test,y_test, batch_size = y_test.shape[0],verbose = False)\n",
    "        print(\"test cost:\",cost,\"test accuracy:\",accuracy)"
   ]
  },
  {
   "cell_type": "code",
   "execution_count": 16,
   "metadata": {},
   "outputs": [
    {
     "name": "stderr",
     "output_type": "stream",
     "text": [
      "C:\\Users\\a2823\\anaconda3\\envs\\keras\\lib\\site-packages\\ipykernel_launcher.py:35: UserWarning: Update your `SimpleRNN` call to the Keras 2 API: `SimpleRNN(batch_input_shape=(None, 28,..., unroll=True, units=50)`\n"
     ]
    },
    {
     "name": "stdout",
     "output_type": "stream",
     "text": [
      "test cost:  2.400458335876465 test accuracy:  0.06539999693632126\n",
      "test cost:  0.6007798314094543 test accuracy:  0.8213000297546387\n",
      "test cost:  0.46214282512664795 test accuracy:  0.866599977016449\n",
      "test cost:  0.3522356152534485 test accuracy:  0.8995000123977661\n",
      "test cost:  0.34809282422065735 test accuracy:  0.8973000049591064\n",
      "test cost:  0.30597934126853943 test accuracy:  0.9121000170707703\n",
      "test cost:  0.2567206621170044 test accuracy:  0.9273999929428101\n",
      "test cost:  0.25790902972221375 test accuracy:  0.9283000230789185\n",
      "test cost:  0.2478138953447342 test accuracy:  0.9290000200271606\n"
     ]
    }
   ],
   "source": [
    "import numpy as np\n",
    "np.random.seed(1337)  # for reproducibility\n",
    "\n",
    "from keras.datasets import mnist\n",
    "from keras.utils import np_utils\n",
    "from keras.models import Sequential\n",
    "from keras.layers import SimpleRNN, Activation, Dense\n",
    "from keras.optimizers import Adam\n",
    "\n",
    "TIME_STEPS = 28     # same as the height of the image\n",
    "INPUT_SIZE = 28     # same as the width of the image\n",
    "BATCH_SIZE = 50\n",
    "BATCH_INDEX = 0\n",
    "OUTPUT_SIZE = 10\n",
    "CELL_SIZE = 50\n",
    "LR = 0.001\n",
    "\n",
    "(X_train, y_train), (X_test, y_test) = mnist.load_data()\n",
    "\n",
    "# data pre-processing\n",
    "X_train = X_train.reshape(-1, 28, 28) / 255.      # normalize\n",
    "X_test = X_test.reshape(-1, 28, 28) / 255.        # normalize\n",
    "y_train = np_utils.to_categorical(y_train, num_classes=10)\n",
    "y_test = np_utils.to_categorical(y_test, num_classes=10)\n",
    "\n",
    "# build RNN model\n",
    "model = Sequential()\n",
    "\n",
    "# RNN cell\n",
    "model.add(SimpleRNN(\n",
    "    # for batch_input_shape, if using tensorflow as the backend, we have to put None for the batch_size.\n",
    "    # Otherwise, model.evaluate() will get error.\n",
    "    batch_input_shape=(None, TIME_STEPS, INPUT_SIZE),       # Or: input_dim=INPUT_SIZE, input_length=TIME_STEPS,\n",
    "    output_dim=CELL_SIZE,\n",
    "    unroll=True,\n",
    "))\n",
    "\n",
    "# output layer\n",
    "model.add(Dense(OUTPUT_SIZE))\n",
    "model.add(Activation('softmax'))\n",
    "\n",
    "# optimizer\n",
    "adam = Adam(LR)\n",
    "model.compile(optimizer=adam,\n",
    "              loss='categorical_crossentropy',\n",
    "              metrics=['accuracy'])\n",
    "\n",
    "# training\n",
    "for step in range(4001):\n",
    "    # data shape = (batch_num, steps, inputs/outputs)\n",
    "    X_batch = X_train[BATCH_INDEX: BATCH_INDEX+BATCH_SIZE, :, :]\n",
    "    Y_batch = y_train[BATCH_INDEX: BATCH_INDEX+BATCH_SIZE, :]\n",
    "    cost = model.train_on_batch(X_batch, Y_batch)\n",
    "    BATCH_INDEX += BATCH_SIZE\n",
    "    BATCH_INDEX = 0 if BATCH_INDEX >= X_train.shape[0] else BATCH_INDEX\n",
    "\n",
    "    if step % 500 == 0:\n",
    "        cost, accuracy = model.evaluate(X_test, y_test, batch_size=y_test.shape[0], verbose=False)\n",
    "        print('test cost: ', cost, 'test accuracy: ', accuracy)"
   ]
  }
 ],
 "metadata": {
  "kernelspec": {
   "display_name": "keras",
   "language": "python",
   "name": "keras"
  },
  "language_info": {
   "codemirror_mode": {
    "name": "ipython",
    "version": 3
   },
   "file_extension": ".py",
   "mimetype": "text/x-python",
   "name": "python",
   "nbconvert_exporter": "python",
   "pygments_lexer": "ipython3",
   "version": "3.7.7"
  }
 },
 "nbformat": 4,
 "nbformat_minor": 4
}
